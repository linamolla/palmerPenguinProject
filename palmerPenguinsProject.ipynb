{
 "cells": [
  {
   "cell_type": "markdown",
   "metadata": {
    "id": "jAH2eK-gD1Id"
   },
   "source": [
    "# Predicting Palmer Penguins Species\n",
    "### By Lina Molla and Joycelyn Ng\n",
    "Based on the well known palmer penguins data set, we wanted to create a model that most efficiently and effectively predicts the species of a penguin. In this project, we will walk you through the data cleaning, exploratory data anaylsis, feature selection, model selection, and model optimization that led us to determine the best way to predict the species of the palmer penguins.\n"
   ]
  },
  {
   "cell_type": "markdown",
   "metadata": {
    "id": "M0MjL_2rSxuv"
   },
   "source": [
    "## Data Import and Cleaning"
   ]
  },
  {
   "cell_type": "code",
   "execution_count": 1,
   "metadata": {
    "id": "9QKu9H-AEXMf"
   },
   "outputs": [],
   "source": [
    "import pandas as pd\n",
    "import numpy as np\n",
    "from sklearn import preprocessing\n",
    "from sklearn.model_selection import train_test_split\n",
    "from matplotlib import pyplot as plt\n",
    "import matplotlib.patches as mpatches\n",
    "import seaborn as sns\n",
    "from sklearn.model_selection import cross_val_score\n",
    "from sklearn.svm import SVC\n",
    "from sklearn import svm\n",
    "from sklearn.metrics import plot_confusion_matrix\n",
    "from sklearn.model_selection import RandomizedSearchCV\n",
    "from sklearn.neighbors import KNeighborsClassifier\n",
    "from sklearn.ensemble import RandomForestClassifier\n",
    "from sklearn.metrics import accuracy_score, confusion_matrix\n",
    "from sklearn.linear_model import LogisticRegression"
   ]
  },
  {
   "cell_type": "code",
   "execution_count": 2,
   "metadata": {
    "id": "J-hh4vLREm_p"
   },
   "outputs": [],
   "source": [
    "penguins = pd.read_csv('palmer_penguins.csv')"
   ]
  },
  {
   "cell_type": "code",
   "execution_count": 3,
   "metadata": {
    "colab": {
     "base_uri": "https://localhost:8080/",
     "height": 1000
    },
    "id": "rRVNXcmxEs0O",
    "outputId": "bcf4d078-16cc-4792-d7c3-bd2a504a8a48"
   },
   "outputs": [
    {
     "data": {
      "text/html": [
       "<div>\n",
       "<style scoped>\n",
       "    .dataframe tbody tr th:only-of-type {\n",
       "        vertical-align: middle;\n",
       "    }\n",
       "\n",
       "    .dataframe tbody tr th {\n",
       "        vertical-align: top;\n",
       "    }\n",
       "\n",
       "    .dataframe thead th {\n",
       "        text-align: right;\n",
       "    }\n",
       "</style>\n",
       "<table border=\"1\" class=\"dataframe\">\n",
       "  <thead>\n",
       "    <tr style=\"text-align: right;\">\n",
       "      <th></th>\n",
       "      <th>studyName</th>\n",
       "      <th>Sample Number</th>\n",
       "      <th>Species</th>\n",
       "      <th>Region</th>\n",
       "      <th>Island</th>\n",
       "      <th>Stage</th>\n",
       "      <th>Individual ID</th>\n",
       "      <th>Clutch Completion</th>\n",
       "      <th>Date Egg</th>\n",
       "      <th>Culmen Length (mm)</th>\n",
       "      <th>Culmen Depth (mm)</th>\n",
       "      <th>Flipper Length (mm)</th>\n",
       "      <th>Body Mass (g)</th>\n",
       "      <th>Sex</th>\n",
       "      <th>Delta 15 N (o/oo)</th>\n",
       "      <th>Delta 13 C (o/oo)</th>\n",
       "      <th>Comments</th>\n",
       "    </tr>\n",
       "  </thead>\n",
       "  <tbody>\n",
       "    <tr>\n",
       "      <th>0</th>\n",
       "      <td>PAL0708</td>\n",
       "      <td>1</td>\n",
       "      <td>Adelie Penguin (Pygoscelis adeliae)</td>\n",
       "      <td>Anvers</td>\n",
       "      <td>Torgersen</td>\n",
       "      <td>Adult, 1 Egg Stage</td>\n",
       "      <td>N1A1</td>\n",
       "      <td>Yes</td>\n",
       "      <td>11/11/07</td>\n",
       "      <td>39.1</td>\n",
       "      <td>18.7</td>\n",
       "      <td>181.0</td>\n",
       "      <td>3750.0</td>\n",
       "      <td>MALE</td>\n",
       "      <td>NaN</td>\n",
       "      <td>NaN</td>\n",
       "      <td>Not enough blood for isotopes.</td>\n",
       "    </tr>\n",
       "    <tr>\n",
       "      <th>1</th>\n",
       "      <td>PAL0708</td>\n",
       "      <td>2</td>\n",
       "      <td>Adelie Penguin (Pygoscelis adeliae)</td>\n",
       "      <td>Anvers</td>\n",
       "      <td>Torgersen</td>\n",
       "      <td>Adult, 1 Egg Stage</td>\n",
       "      <td>N1A2</td>\n",
       "      <td>Yes</td>\n",
       "      <td>11/11/07</td>\n",
       "      <td>39.5</td>\n",
       "      <td>17.4</td>\n",
       "      <td>186.0</td>\n",
       "      <td>3800.0</td>\n",
       "      <td>FEMALE</td>\n",
       "      <td>8.94956</td>\n",
       "      <td>-24.69454</td>\n",
       "      <td>NaN</td>\n",
       "    </tr>\n",
       "    <tr>\n",
       "      <th>2</th>\n",
       "      <td>PAL0708</td>\n",
       "      <td>3</td>\n",
       "      <td>Adelie Penguin (Pygoscelis adeliae)</td>\n",
       "      <td>Anvers</td>\n",
       "      <td>Torgersen</td>\n",
       "      <td>Adult, 1 Egg Stage</td>\n",
       "      <td>N2A1</td>\n",
       "      <td>Yes</td>\n",
       "      <td>11/16/07</td>\n",
       "      <td>40.3</td>\n",
       "      <td>18.0</td>\n",
       "      <td>195.0</td>\n",
       "      <td>3250.0</td>\n",
       "      <td>FEMALE</td>\n",
       "      <td>8.36821</td>\n",
       "      <td>-25.33302</td>\n",
       "      <td>NaN</td>\n",
       "    </tr>\n",
       "    <tr>\n",
       "      <th>3</th>\n",
       "      <td>PAL0708</td>\n",
       "      <td>4</td>\n",
       "      <td>Adelie Penguin (Pygoscelis adeliae)</td>\n",
       "      <td>Anvers</td>\n",
       "      <td>Torgersen</td>\n",
       "      <td>Adult, 1 Egg Stage</td>\n",
       "      <td>N2A2</td>\n",
       "      <td>Yes</td>\n",
       "      <td>11/16/07</td>\n",
       "      <td>NaN</td>\n",
       "      <td>NaN</td>\n",
       "      <td>NaN</td>\n",
       "      <td>NaN</td>\n",
       "      <td>NaN</td>\n",
       "      <td>NaN</td>\n",
       "      <td>NaN</td>\n",
       "      <td>Adult not sampled.</td>\n",
       "    </tr>\n",
       "    <tr>\n",
       "      <th>4</th>\n",
       "      <td>PAL0708</td>\n",
       "      <td>5</td>\n",
       "      <td>Adelie Penguin (Pygoscelis adeliae)</td>\n",
       "      <td>Anvers</td>\n",
       "      <td>Torgersen</td>\n",
       "      <td>Adult, 1 Egg Stage</td>\n",
       "      <td>N3A1</td>\n",
       "      <td>Yes</td>\n",
       "      <td>11/16/07</td>\n",
       "      <td>36.7</td>\n",
       "      <td>19.3</td>\n",
       "      <td>193.0</td>\n",
       "      <td>3450.0</td>\n",
       "      <td>FEMALE</td>\n",
       "      <td>8.76651</td>\n",
       "      <td>-25.32426</td>\n",
       "      <td>NaN</td>\n",
       "    </tr>\n",
       "    <tr>\n",
       "      <th>5</th>\n",
       "      <td>PAL0708</td>\n",
       "      <td>6</td>\n",
       "      <td>Adelie Penguin (Pygoscelis adeliae)</td>\n",
       "      <td>Anvers</td>\n",
       "      <td>Torgersen</td>\n",
       "      <td>Adult, 1 Egg Stage</td>\n",
       "      <td>N3A2</td>\n",
       "      <td>Yes</td>\n",
       "      <td>11/16/07</td>\n",
       "      <td>39.3</td>\n",
       "      <td>20.6</td>\n",
       "      <td>190.0</td>\n",
       "      <td>3650.0</td>\n",
       "      <td>MALE</td>\n",
       "      <td>8.66496</td>\n",
       "      <td>-25.29805</td>\n",
       "      <td>NaN</td>\n",
       "    </tr>\n",
       "    <tr>\n",
       "      <th>6</th>\n",
       "      <td>PAL0708</td>\n",
       "      <td>7</td>\n",
       "      <td>Adelie Penguin (Pygoscelis adeliae)</td>\n",
       "      <td>Anvers</td>\n",
       "      <td>Torgersen</td>\n",
       "      <td>Adult, 1 Egg Stage</td>\n",
       "      <td>N4A1</td>\n",
       "      <td>No</td>\n",
       "      <td>11/15/07</td>\n",
       "      <td>38.9</td>\n",
       "      <td>17.8</td>\n",
       "      <td>181.0</td>\n",
       "      <td>3625.0</td>\n",
       "      <td>FEMALE</td>\n",
       "      <td>9.18718</td>\n",
       "      <td>-25.21799</td>\n",
       "      <td>Nest never observed with full clutch.</td>\n",
       "    </tr>\n",
       "    <tr>\n",
       "      <th>7</th>\n",
       "      <td>PAL0708</td>\n",
       "      <td>8</td>\n",
       "      <td>Adelie Penguin (Pygoscelis adeliae)</td>\n",
       "      <td>Anvers</td>\n",
       "      <td>Torgersen</td>\n",
       "      <td>Adult, 1 Egg Stage</td>\n",
       "      <td>N4A2</td>\n",
       "      <td>No</td>\n",
       "      <td>11/15/07</td>\n",
       "      <td>39.2</td>\n",
       "      <td>19.6</td>\n",
       "      <td>195.0</td>\n",
       "      <td>4675.0</td>\n",
       "      <td>MALE</td>\n",
       "      <td>9.46060</td>\n",
       "      <td>-24.89958</td>\n",
       "      <td>Nest never observed with full clutch.</td>\n",
       "    </tr>\n",
       "    <tr>\n",
       "      <th>8</th>\n",
       "      <td>PAL0708</td>\n",
       "      <td>9</td>\n",
       "      <td>Adelie Penguin (Pygoscelis adeliae)</td>\n",
       "      <td>Anvers</td>\n",
       "      <td>Torgersen</td>\n",
       "      <td>Adult, 1 Egg Stage</td>\n",
       "      <td>N5A1</td>\n",
       "      <td>Yes</td>\n",
       "      <td>11/9/07</td>\n",
       "      <td>34.1</td>\n",
       "      <td>18.1</td>\n",
       "      <td>193.0</td>\n",
       "      <td>3475.0</td>\n",
       "      <td>NaN</td>\n",
       "      <td>NaN</td>\n",
       "      <td>NaN</td>\n",
       "      <td>No blood sample obtained.</td>\n",
       "    </tr>\n",
       "    <tr>\n",
       "      <th>9</th>\n",
       "      <td>PAL0708</td>\n",
       "      <td>10</td>\n",
       "      <td>Adelie Penguin (Pygoscelis adeliae)</td>\n",
       "      <td>Anvers</td>\n",
       "      <td>Torgersen</td>\n",
       "      <td>Adult, 1 Egg Stage</td>\n",
       "      <td>N5A2</td>\n",
       "      <td>Yes</td>\n",
       "      <td>11/9/07</td>\n",
       "      <td>42.0</td>\n",
       "      <td>20.2</td>\n",
       "      <td>190.0</td>\n",
       "      <td>4250.0</td>\n",
       "      <td>NaN</td>\n",
       "      <td>9.13362</td>\n",
       "      <td>-25.09368</td>\n",
       "      <td>No blood sample obtained for sexing.</td>\n",
       "    </tr>\n",
       "    <tr>\n",
       "      <th>10</th>\n",
       "      <td>PAL0708</td>\n",
       "      <td>11</td>\n",
       "      <td>Adelie Penguin (Pygoscelis adeliae)</td>\n",
       "      <td>Anvers</td>\n",
       "      <td>Torgersen</td>\n",
       "      <td>Adult, 1 Egg Stage</td>\n",
       "      <td>N6A1</td>\n",
       "      <td>Yes</td>\n",
       "      <td>11/9/07</td>\n",
       "      <td>37.8</td>\n",
       "      <td>17.1</td>\n",
       "      <td>186.0</td>\n",
       "      <td>3300.0</td>\n",
       "      <td>NaN</td>\n",
       "      <td>8.63243</td>\n",
       "      <td>-25.21315</td>\n",
       "      <td>No blood sample obtained for sexing.</td>\n",
       "    </tr>\n",
       "    <tr>\n",
       "      <th>11</th>\n",
       "      <td>PAL0708</td>\n",
       "      <td>12</td>\n",
       "      <td>Adelie Penguin (Pygoscelis adeliae)</td>\n",
       "      <td>Anvers</td>\n",
       "      <td>Torgersen</td>\n",
       "      <td>Adult, 1 Egg Stage</td>\n",
       "      <td>N6A2</td>\n",
       "      <td>Yes</td>\n",
       "      <td>11/9/07</td>\n",
       "      <td>37.8</td>\n",
       "      <td>17.3</td>\n",
       "      <td>180.0</td>\n",
       "      <td>3700.0</td>\n",
       "      <td>NaN</td>\n",
       "      <td>NaN</td>\n",
       "      <td>NaN</td>\n",
       "      <td>No blood sample obtained.</td>\n",
       "    </tr>\n",
       "    <tr>\n",
       "      <th>12</th>\n",
       "      <td>PAL0708</td>\n",
       "      <td>13</td>\n",
       "      <td>Adelie Penguin (Pygoscelis adeliae)</td>\n",
       "      <td>Anvers</td>\n",
       "      <td>Torgersen</td>\n",
       "      <td>Adult, 1 Egg Stage</td>\n",
       "      <td>N7A1</td>\n",
       "      <td>Yes</td>\n",
       "      <td>11/15/07</td>\n",
       "      <td>41.1</td>\n",
       "      <td>17.6</td>\n",
       "      <td>182.0</td>\n",
       "      <td>3200.0</td>\n",
       "      <td>FEMALE</td>\n",
       "      <td>NaN</td>\n",
       "      <td>NaN</td>\n",
       "      <td>Not enough blood for isotopes.</td>\n",
       "    </tr>\n",
       "    <tr>\n",
       "      <th>13</th>\n",
       "      <td>PAL0708</td>\n",
       "      <td>14</td>\n",
       "      <td>Adelie Penguin (Pygoscelis adeliae)</td>\n",
       "      <td>Anvers</td>\n",
       "      <td>Torgersen</td>\n",
       "      <td>Adult, 1 Egg Stage</td>\n",
       "      <td>N7A2</td>\n",
       "      <td>Yes</td>\n",
       "      <td>11/15/07</td>\n",
       "      <td>38.6</td>\n",
       "      <td>21.2</td>\n",
       "      <td>191.0</td>\n",
       "      <td>3800.0</td>\n",
       "      <td>MALE</td>\n",
       "      <td>NaN</td>\n",
       "      <td>NaN</td>\n",
       "      <td>Not enough blood for isotopes.</td>\n",
       "    </tr>\n",
       "    <tr>\n",
       "      <th>14</th>\n",
       "      <td>PAL0708</td>\n",
       "      <td>15</td>\n",
       "      <td>Adelie Penguin (Pygoscelis adeliae)</td>\n",
       "      <td>Anvers</td>\n",
       "      <td>Torgersen</td>\n",
       "      <td>Adult, 1 Egg Stage</td>\n",
       "      <td>N8A1</td>\n",
       "      <td>Yes</td>\n",
       "      <td>11/16/07</td>\n",
       "      <td>34.6</td>\n",
       "      <td>21.1</td>\n",
       "      <td>198.0</td>\n",
       "      <td>4400.0</td>\n",
       "      <td>MALE</td>\n",
       "      <td>8.55583</td>\n",
       "      <td>-25.22588</td>\n",
       "      <td>NaN</td>\n",
       "    </tr>\n",
       "    <tr>\n",
       "      <th>15</th>\n",
       "      <td>PAL0708</td>\n",
       "      <td>16</td>\n",
       "      <td>Adelie Penguin (Pygoscelis adeliae)</td>\n",
       "      <td>Anvers</td>\n",
       "      <td>Torgersen</td>\n",
       "      <td>Adult, 1 Egg Stage</td>\n",
       "      <td>N8A2</td>\n",
       "      <td>Yes</td>\n",
       "      <td>11/16/07</td>\n",
       "      <td>36.6</td>\n",
       "      <td>17.8</td>\n",
       "      <td>185.0</td>\n",
       "      <td>3700.0</td>\n",
       "      <td>FEMALE</td>\n",
       "      <td>NaN</td>\n",
       "      <td>NaN</td>\n",
       "      <td>Not enough blood for isotopes.</td>\n",
       "    </tr>\n",
       "    <tr>\n",
       "      <th>16</th>\n",
       "      <td>PAL0708</td>\n",
       "      <td>17</td>\n",
       "      <td>Adelie Penguin (Pygoscelis adeliae)</td>\n",
       "      <td>Anvers</td>\n",
       "      <td>Torgersen</td>\n",
       "      <td>Adult, 1 Egg Stage</td>\n",
       "      <td>N9A1</td>\n",
       "      <td>Yes</td>\n",
       "      <td>11/12/07</td>\n",
       "      <td>38.7</td>\n",
       "      <td>19.0</td>\n",
       "      <td>195.0</td>\n",
       "      <td>3450.0</td>\n",
       "      <td>FEMALE</td>\n",
       "      <td>9.18528</td>\n",
       "      <td>-25.06691</td>\n",
       "      <td>NaN</td>\n",
       "    </tr>\n",
       "    <tr>\n",
       "      <th>17</th>\n",
       "      <td>PAL0708</td>\n",
       "      <td>18</td>\n",
       "      <td>Adelie Penguin (Pygoscelis adeliae)</td>\n",
       "      <td>Anvers</td>\n",
       "      <td>Torgersen</td>\n",
       "      <td>Adult, 1 Egg Stage</td>\n",
       "      <td>N9A2</td>\n",
       "      <td>Yes</td>\n",
       "      <td>11/12/07</td>\n",
       "      <td>42.5</td>\n",
       "      <td>20.7</td>\n",
       "      <td>197.0</td>\n",
       "      <td>4500.0</td>\n",
       "      <td>MALE</td>\n",
       "      <td>8.67538</td>\n",
       "      <td>-25.13993</td>\n",
       "      <td>NaN</td>\n",
       "    </tr>\n",
       "    <tr>\n",
       "      <th>18</th>\n",
       "      <td>PAL0708</td>\n",
       "      <td>19</td>\n",
       "      <td>Adelie Penguin (Pygoscelis adeliae)</td>\n",
       "      <td>Anvers</td>\n",
       "      <td>Torgersen</td>\n",
       "      <td>Adult, 1 Egg Stage</td>\n",
       "      <td>N10A1</td>\n",
       "      <td>Yes</td>\n",
       "      <td>11/16/07</td>\n",
       "      <td>34.4</td>\n",
       "      <td>18.4</td>\n",
       "      <td>184.0</td>\n",
       "      <td>3325.0</td>\n",
       "      <td>FEMALE</td>\n",
       "      <td>8.47827</td>\n",
       "      <td>-25.23319</td>\n",
       "      <td>NaN</td>\n",
       "    </tr>\n",
       "    <tr>\n",
       "      <th>19</th>\n",
       "      <td>PAL0708</td>\n",
       "      <td>20</td>\n",
       "      <td>Adelie Penguin (Pygoscelis adeliae)</td>\n",
       "      <td>Anvers</td>\n",
       "      <td>Torgersen</td>\n",
       "      <td>Adult, 1 Egg Stage</td>\n",
       "      <td>N10A2</td>\n",
       "      <td>Yes</td>\n",
       "      <td>11/16/07</td>\n",
       "      <td>46.0</td>\n",
       "      <td>21.5</td>\n",
       "      <td>194.0</td>\n",
       "      <td>4200.0</td>\n",
       "      <td>MALE</td>\n",
       "      <td>9.11616</td>\n",
       "      <td>-24.77227</td>\n",
       "      <td>NaN</td>\n",
       "    </tr>\n",
       "  </tbody>\n",
       "</table>\n",
       "</div>"
      ],
      "text/plain": [
       "   studyName  Sample Number                              Species  Region  \\\n",
       "0    PAL0708              1  Adelie Penguin (Pygoscelis adeliae)  Anvers   \n",
       "1    PAL0708              2  Adelie Penguin (Pygoscelis adeliae)  Anvers   \n",
       "2    PAL0708              3  Adelie Penguin (Pygoscelis adeliae)  Anvers   \n",
       "3    PAL0708              4  Adelie Penguin (Pygoscelis adeliae)  Anvers   \n",
       "4    PAL0708              5  Adelie Penguin (Pygoscelis adeliae)  Anvers   \n",
       "5    PAL0708              6  Adelie Penguin (Pygoscelis adeliae)  Anvers   \n",
       "6    PAL0708              7  Adelie Penguin (Pygoscelis adeliae)  Anvers   \n",
       "7    PAL0708              8  Adelie Penguin (Pygoscelis adeliae)  Anvers   \n",
       "8    PAL0708              9  Adelie Penguin (Pygoscelis adeliae)  Anvers   \n",
       "9    PAL0708             10  Adelie Penguin (Pygoscelis adeliae)  Anvers   \n",
       "10   PAL0708             11  Adelie Penguin (Pygoscelis adeliae)  Anvers   \n",
       "11   PAL0708             12  Adelie Penguin (Pygoscelis adeliae)  Anvers   \n",
       "12   PAL0708             13  Adelie Penguin (Pygoscelis adeliae)  Anvers   \n",
       "13   PAL0708             14  Adelie Penguin (Pygoscelis adeliae)  Anvers   \n",
       "14   PAL0708             15  Adelie Penguin (Pygoscelis adeliae)  Anvers   \n",
       "15   PAL0708             16  Adelie Penguin (Pygoscelis adeliae)  Anvers   \n",
       "16   PAL0708             17  Adelie Penguin (Pygoscelis adeliae)  Anvers   \n",
       "17   PAL0708             18  Adelie Penguin (Pygoscelis adeliae)  Anvers   \n",
       "18   PAL0708             19  Adelie Penguin (Pygoscelis adeliae)  Anvers   \n",
       "19   PAL0708             20  Adelie Penguin (Pygoscelis adeliae)  Anvers   \n",
       "\n",
       "       Island               Stage Individual ID Clutch Completion  Date Egg  \\\n",
       "0   Torgersen  Adult, 1 Egg Stage          N1A1               Yes  11/11/07   \n",
       "1   Torgersen  Adult, 1 Egg Stage          N1A2               Yes  11/11/07   \n",
       "2   Torgersen  Adult, 1 Egg Stage          N2A1               Yes  11/16/07   \n",
       "3   Torgersen  Adult, 1 Egg Stage          N2A2               Yes  11/16/07   \n",
       "4   Torgersen  Adult, 1 Egg Stage          N3A1               Yes  11/16/07   \n",
       "5   Torgersen  Adult, 1 Egg Stage          N3A2               Yes  11/16/07   \n",
       "6   Torgersen  Adult, 1 Egg Stage          N4A1                No  11/15/07   \n",
       "7   Torgersen  Adult, 1 Egg Stage          N4A2                No  11/15/07   \n",
       "8   Torgersen  Adult, 1 Egg Stage          N5A1               Yes   11/9/07   \n",
       "9   Torgersen  Adult, 1 Egg Stage          N5A2               Yes   11/9/07   \n",
       "10  Torgersen  Adult, 1 Egg Stage          N6A1               Yes   11/9/07   \n",
       "11  Torgersen  Adult, 1 Egg Stage          N6A2               Yes   11/9/07   \n",
       "12  Torgersen  Adult, 1 Egg Stage          N7A1               Yes  11/15/07   \n",
       "13  Torgersen  Adult, 1 Egg Stage          N7A2               Yes  11/15/07   \n",
       "14  Torgersen  Adult, 1 Egg Stage          N8A1               Yes  11/16/07   \n",
       "15  Torgersen  Adult, 1 Egg Stage          N8A2               Yes  11/16/07   \n",
       "16  Torgersen  Adult, 1 Egg Stage          N9A1               Yes  11/12/07   \n",
       "17  Torgersen  Adult, 1 Egg Stage          N9A2               Yes  11/12/07   \n",
       "18  Torgersen  Adult, 1 Egg Stage         N10A1               Yes  11/16/07   \n",
       "19  Torgersen  Adult, 1 Egg Stage         N10A2               Yes  11/16/07   \n",
       "\n",
       "    Culmen Length (mm)  Culmen Depth (mm)  Flipper Length (mm)  Body Mass (g)  \\\n",
       "0                 39.1               18.7                181.0         3750.0   \n",
       "1                 39.5               17.4                186.0         3800.0   \n",
       "2                 40.3               18.0                195.0         3250.0   \n",
       "3                  NaN                NaN                  NaN            NaN   \n",
       "4                 36.7               19.3                193.0         3450.0   \n",
       "5                 39.3               20.6                190.0         3650.0   \n",
       "6                 38.9               17.8                181.0         3625.0   \n",
       "7                 39.2               19.6                195.0         4675.0   \n",
       "8                 34.1               18.1                193.0         3475.0   \n",
       "9                 42.0               20.2                190.0         4250.0   \n",
       "10                37.8               17.1                186.0         3300.0   \n",
       "11                37.8               17.3                180.0         3700.0   \n",
       "12                41.1               17.6                182.0         3200.0   \n",
       "13                38.6               21.2                191.0         3800.0   \n",
       "14                34.6               21.1                198.0         4400.0   \n",
       "15                36.6               17.8                185.0         3700.0   \n",
       "16                38.7               19.0                195.0         3450.0   \n",
       "17                42.5               20.7                197.0         4500.0   \n",
       "18                34.4               18.4                184.0         3325.0   \n",
       "19                46.0               21.5                194.0         4200.0   \n",
       "\n",
       "       Sex  Delta 15 N (o/oo)  Delta 13 C (o/oo)  \\\n",
       "0     MALE                NaN                NaN   \n",
       "1   FEMALE            8.94956          -24.69454   \n",
       "2   FEMALE            8.36821          -25.33302   \n",
       "3      NaN                NaN                NaN   \n",
       "4   FEMALE            8.76651          -25.32426   \n",
       "5     MALE            8.66496          -25.29805   \n",
       "6   FEMALE            9.18718          -25.21799   \n",
       "7     MALE            9.46060          -24.89958   \n",
       "8      NaN                NaN                NaN   \n",
       "9      NaN            9.13362          -25.09368   \n",
       "10     NaN            8.63243          -25.21315   \n",
       "11     NaN                NaN                NaN   \n",
       "12  FEMALE                NaN                NaN   \n",
       "13    MALE                NaN                NaN   \n",
       "14    MALE            8.55583          -25.22588   \n",
       "15  FEMALE                NaN                NaN   \n",
       "16  FEMALE            9.18528          -25.06691   \n",
       "17    MALE            8.67538          -25.13993   \n",
       "18  FEMALE            8.47827          -25.23319   \n",
       "19    MALE            9.11616          -24.77227   \n",
       "\n",
       "                                 Comments  \n",
       "0          Not enough blood for isotopes.  \n",
       "1                                     NaN  \n",
       "2                                     NaN  \n",
       "3                      Adult not sampled.  \n",
       "4                                     NaN  \n",
       "5                                     NaN  \n",
       "6   Nest never observed with full clutch.  \n",
       "7   Nest never observed with full clutch.  \n",
       "8               No blood sample obtained.  \n",
       "9    No blood sample obtained for sexing.  \n",
       "10   No blood sample obtained for sexing.  \n",
       "11              No blood sample obtained.  \n",
       "12         Not enough blood for isotopes.  \n",
       "13         Not enough blood for isotopes.  \n",
       "14                                    NaN  \n",
       "15         Not enough blood for isotopes.  \n",
       "16                                    NaN  \n",
       "17                                    NaN  \n",
       "18                                    NaN  \n",
       "19                                    NaN  "
      ]
     },
     "execution_count": 3,
     "metadata": {},
     "output_type": "execute_result"
    }
   ],
   "source": [
    "penguins.head(20)"
   ]
  },
  {
   "cell_type": "code",
   "execution_count": 4,
   "metadata": {
    "colab": {
     "base_uri": "https://localhost:8080/"
    },
    "id": "EBTFGunfIGXx",
    "outputId": "5aa0c72f-69bf-4b86-824a-6aeedf0fe131"
   },
   "outputs": [
    {
     "name": "stdout",
     "output_type": "stream",
     "text": [
      "<class 'pandas.core.frame.DataFrame'>\n",
      "RangeIndex: 344 entries, 0 to 343\n",
      "Data columns (total 17 columns):\n",
      " #   Column               Non-Null Count  Dtype  \n",
      "---  ------               --------------  -----  \n",
      " 0   studyName            344 non-null    object \n",
      " 1   Sample Number        344 non-null    int64  \n",
      " 2   Species              344 non-null    object \n",
      " 3   Region               344 non-null    object \n",
      " 4   Island               344 non-null    object \n",
      " 5   Stage                344 non-null    object \n",
      " 6   Individual ID        344 non-null    object \n",
      " 7   Clutch Completion    344 non-null    object \n",
      " 8   Date Egg             344 non-null    object \n",
      " 9   Culmen Length (mm)   342 non-null    float64\n",
      " 10  Culmen Depth (mm)    342 non-null    float64\n",
      " 11  Flipper Length (mm)  342 non-null    float64\n",
      " 12  Body Mass (g)        342 non-null    float64\n",
      " 13  Sex                  334 non-null    object \n",
      " 14  Delta 15 N (o/oo)    330 non-null    float64\n",
      " 15  Delta 13 C (o/oo)    331 non-null    float64\n",
      " 16  Comments             26 non-null     object \n",
      "dtypes: float64(6), int64(1), object(10)\n",
      "memory usage: 45.8+ KB\n"
     ]
    }
   ],
   "source": [
    "penguins.info()"
   ]
  },
  {
   "cell_type": "code",
   "execution_count": 5,
   "metadata": {
    "colab": {
     "base_uri": "https://localhost:8080/"
    },
    "id": "7_gZV7Uef7wR",
    "outputId": "9d939d18-9129-4db4-9b3f-5f257b352113"
   },
   "outputs": [
    {
     "data": {
      "text/plain": [
       "array(['MALE', 'FEMALE', nan, '.'], dtype=object)"
      ]
     },
     "execution_count": 5,
     "metadata": {},
     "output_type": "execute_result"
    }
   ],
   "source": [
    "penguins.Sex.unique()"
   ]
  },
  {
   "cell_type": "code",
   "execution_count": 6,
   "metadata": {
    "colab": {
     "base_uri": "https://localhost:8080/"
    },
    "id": "KSOVIIDQmJj4",
    "outputId": "a413770f-978b-4530-aab1-38c5db3e77c4"
   },
   "outputs": [
    {
     "data": {
      "text/plain": [
       "array(['Anvers'], dtype=object)"
      ]
     },
     "execution_count": 6,
     "metadata": {},
     "output_type": "execute_result"
    }
   ],
   "source": [
    "penguins.Region.unique()"
   ]
  },
  {
   "cell_type": "markdown",
   "metadata": {
    "id": "HVi_wt2pmVof"
   },
   "source": [
    "As we can see here, Anvers is the only region that all of the penguin species are in within this data set, so we will drop the Region column."
   ]
  },
  {
   "cell_type": "code",
   "execution_count": 7,
   "metadata": {
    "id": "pKxW4GOlds3h"
   },
   "outputs": [],
   "source": [
    "def clean_penguins(data_df):\n",
    "    '''\n",
    "    Params: \n",
    "      data_df: the data set\n",
    "    Returns:\n",
    "      tthe cleaned data\n",
    "    '''\n",
    "    df = data_df.copy()\n",
    "\n",
    "    # shorten Species name\n",
    "    df[\"Species\"] = df[\"Species\"].str.split().str.get(0)\n",
    "    # get rid of random incorrect variable type in Sex\n",
    "    df = df[df['Sex'] != '.']\n",
    "    \n",
    "    # drop unnecessary columns\n",
    "    df = df.drop(['Sample Number', \n",
    "                  'Delta 15 N (o/oo)', \n",
    "                  'Delta 13 C (o/oo)', \n",
    "                  'Individual ID', \n",
    "                  'Comments', \n",
    "                  'Date Egg',\n",
    "                  'studyName', \n",
    "                  'Stage',\n",
    "                  'Clutch Completion',\n",
    "                  'Region'], axis = 1)\n",
    "    \n",
    "    # get rid of NaN values\n",
    "    df = df.dropna()\n",
    "\n",
    "    return df"
   ]
  },
  {
   "cell_type": "markdown",
   "metadata": {
    "id": "DemflcxoTMfn"
   },
   "source": [
    "First, we did an initial clean of the data in order to remove any unnecessary columns that we will not be examining. After dropping unnecessary columns, we were able to use dropna() to get rid of any NaN values. It is important to use dropna() after we have already examined the columns, determined which ones we will not be using, and determined where the NaN values are mostly coming from. If we use dropna() first, then one of the unnecessary columns may have had a lot of NaN values and caused a large amount of the observations to be dropped when in fact they do not have NaN values for the columns we want to examine. \n",
    "\n",
    "We chose to drop Delta 15 N and Delta 13 C from the beginning despite the fact that they are quantitative variables. This is due to the fact that they require further understanding and analysis that we did not look into any further since there were other more beneficial quantitative variables already available to use in this data set."
   ]
  },
  {
   "cell_type": "code",
   "execution_count": 8,
   "metadata": {
    "colab": {
     "base_uri": "https://localhost:8080/",
     "height": 424
    },
    "id": "qGETc8ppev5V",
    "outputId": "fb7f075a-1018-42a3-8b83-f431cc7d108a"
   },
   "outputs": [
    {
     "data": {
      "text/html": [
       "<div>\n",
       "<style scoped>\n",
       "    .dataframe tbody tr th:only-of-type {\n",
       "        vertical-align: middle;\n",
       "    }\n",
       "\n",
       "    .dataframe tbody tr th {\n",
       "        vertical-align: top;\n",
       "    }\n",
       "\n",
       "    .dataframe thead th {\n",
       "        text-align: right;\n",
       "    }\n",
       "</style>\n",
       "<table border=\"1\" class=\"dataframe\">\n",
       "  <thead>\n",
       "    <tr style=\"text-align: right;\">\n",
       "      <th></th>\n",
       "      <th>Species</th>\n",
       "      <th>Island</th>\n",
       "      <th>Culmen Length (mm)</th>\n",
       "      <th>Culmen Depth (mm)</th>\n",
       "      <th>Flipper Length (mm)</th>\n",
       "      <th>Body Mass (g)</th>\n",
       "      <th>Sex</th>\n",
       "    </tr>\n",
       "  </thead>\n",
       "  <tbody>\n",
       "    <tr>\n",
       "      <th>0</th>\n",
       "      <td>Adelie</td>\n",
       "      <td>Torgersen</td>\n",
       "      <td>39.1</td>\n",
       "      <td>18.7</td>\n",
       "      <td>181.0</td>\n",
       "      <td>3750.0</td>\n",
       "      <td>MALE</td>\n",
       "    </tr>\n",
       "    <tr>\n",
       "      <th>1</th>\n",
       "      <td>Adelie</td>\n",
       "      <td>Torgersen</td>\n",
       "      <td>39.5</td>\n",
       "      <td>17.4</td>\n",
       "      <td>186.0</td>\n",
       "      <td>3800.0</td>\n",
       "      <td>FEMALE</td>\n",
       "    </tr>\n",
       "    <tr>\n",
       "      <th>2</th>\n",
       "      <td>Adelie</td>\n",
       "      <td>Torgersen</td>\n",
       "      <td>40.3</td>\n",
       "      <td>18.0</td>\n",
       "      <td>195.0</td>\n",
       "      <td>3250.0</td>\n",
       "      <td>FEMALE</td>\n",
       "    </tr>\n",
       "    <tr>\n",
       "      <th>4</th>\n",
       "      <td>Adelie</td>\n",
       "      <td>Torgersen</td>\n",
       "      <td>36.7</td>\n",
       "      <td>19.3</td>\n",
       "      <td>193.0</td>\n",
       "      <td>3450.0</td>\n",
       "      <td>FEMALE</td>\n",
       "    </tr>\n",
       "    <tr>\n",
       "      <th>5</th>\n",
       "      <td>Adelie</td>\n",
       "      <td>Torgersen</td>\n",
       "      <td>39.3</td>\n",
       "      <td>20.6</td>\n",
       "      <td>190.0</td>\n",
       "      <td>3650.0</td>\n",
       "      <td>MALE</td>\n",
       "    </tr>\n",
       "    <tr>\n",
       "      <th>...</th>\n",
       "      <td>...</td>\n",
       "      <td>...</td>\n",
       "      <td>...</td>\n",
       "      <td>...</td>\n",
       "      <td>...</td>\n",
       "      <td>...</td>\n",
       "      <td>...</td>\n",
       "    </tr>\n",
       "    <tr>\n",
       "      <th>338</th>\n",
       "      <td>Gentoo</td>\n",
       "      <td>Biscoe</td>\n",
       "      <td>47.2</td>\n",
       "      <td>13.7</td>\n",
       "      <td>214.0</td>\n",
       "      <td>4925.0</td>\n",
       "      <td>FEMALE</td>\n",
       "    </tr>\n",
       "    <tr>\n",
       "      <th>340</th>\n",
       "      <td>Gentoo</td>\n",
       "      <td>Biscoe</td>\n",
       "      <td>46.8</td>\n",
       "      <td>14.3</td>\n",
       "      <td>215.0</td>\n",
       "      <td>4850.0</td>\n",
       "      <td>FEMALE</td>\n",
       "    </tr>\n",
       "    <tr>\n",
       "      <th>341</th>\n",
       "      <td>Gentoo</td>\n",
       "      <td>Biscoe</td>\n",
       "      <td>50.4</td>\n",
       "      <td>15.7</td>\n",
       "      <td>222.0</td>\n",
       "      <td>5750.0</td>\n",
       "      <td>MALE</td>\n",
       "    </tr>\n",
       "    <tr>\n",
       "      <th>342</th>\n",
       "      <td>Gentoo</td>\n",
       "      <td>Biscoe</td>\n",
       "      <td>45.2</td>\n",
       "      <td>14.8</td>\n",
       "      <td>212.0</td>\n",
       "      <td>5200.0</td>\n",
       "      <td>FEMALE</td>\n",
       "    </tr>\n",
       "    <tr>\n",
       "      <th>343</th>\n",
       "      <td>Gentoo</td>\n",
       "      <td>Biscoe</td>\n",
       "      <td>49.9</td>\n",
       "      <td>16.1</td>\n",
       "      <td>213.0</td>\n",
       "      <td>5400.0</td>\n",
       "      <td>MALE</td>\n",
       "    </tr>\n",
       "  </tbody>\n",
       "</table>\n",
       "<p>333 rows × 7 columns</p>\n",
       "</div>"
      ],
      "text/plain": [
       "    Species     Island  Culmen Length (mm)  Culmen Depth (mm)  \\\n",
       "0    Adelie  Torgersen                39.1               18.7   \n",
       "1    Adelie  Torgersen                39.5               17.4   \n",
       "2    Adelie  Torgersen                40.3               18.0   \n",
       "4    Adelie  Torgersen                36.7               19.3   \n",
       "5    Adelie  Torgersen                39.3               20.6   \n",
       "..      ...        ...                 ...                ...   \n",
       "338  Gentoo     Biscoe                47.2               13.7   \n",
       "340  Gentoo     Biscoe                46.8               14.3   \n",
       "341  Gentoo     Biscoe                50.4               15.7   \n",
       "342  Gentoo     Biscoe                45.2               14.8   \n",
       "343  Gentoo     Biscoe                49.9               16.1   \n",
       "\n",
       "     Flipper Length (mm)  Body Mass (g)     Sex  \n",
       "0                  181.0         3750.0    MALE  \n",
       "1                  186.0         3800.0  FEMALE  \n",
       "2                  195.0         3250.0  FEMALE  \n",
       "4                  193.0         3450.0  FEMALE  \n",
       "5                  190.0         3650.0    MALE  \n",
       "..                   ...            ...     ...  \n",
       "338                214.0         4925.0  FEMALE  \n",
       "340                215.0         4850.0  FEMALE  \n",
       "341                222.0         5750.0    MALE  \n",
       "342                212.0         5200.0  FEMALE  \n",
       "343                213.0         5400.0    MALE  \n",
       "\n",
       "[333 rows x 7 columns]"
      ]
     },
     "execution_count": 8,
     "metadata": {},
     "output_type": "execute_result"
    }
   ],
   "source": [
    "penguins_clean = clean_penguins(penguins)\n",
    "penguins_clean"
   ]
  },
  {
   "cell_type": "markdown",
   "metadata": {
    "id": "Sl0WYpk6TvUN"
   },
   "source": [
    "Now, the penguins data set has been cleaned to an extent to be used for splitting and exploratory data analysis (EDA)."
   ]
  },
  {
   "cell_type": "code",
   "execution_count": 9,
   "metadata": {},
   "outputs": [
    {
     "data": {
      "text/plain": [
       "(344, 17)"
      ]
     },
     "execution_count": 9,
     "metadata": {},
     "output_type": "execute_result"
    }
   ],
   "source": [
    "penguins.shape"
   ]
  },
  {
   "cell_type": "code",
   "execution_count": 10,
   "metadata": {
    "colab": {
     "base_uri": "https://localhost:8080/"
    },
    "id": "mk74O6pmfW00",
    "outputId": "04a11354-3d80-4c56-c425-5af5c081b8f7"
   },
   "outputs": [
    {
     "data": {
      "text/plain": [
       "(333, 7)"
      ]
     },
     "execution_count": 10,
     "metadata": {},
     "output_type": "execute_result"
    }
   ],
   "source": [
    "penguins_clean.shape"
   ]
  },
  {
   "cell_type": "markdown",
   "metadata": {
    "id": "mb8hbfvmf1sF"
   },
   "source": [
    "There are 7 columns and 333 rows within this dataset now that we have done the initial cleaning."
   ]
  },
  {
   "cell_type": "markdown",
   "metadata": {
    "id": "-FxxseRW8C00"
   },
   "source": [
    "## Split into Test and Training Data"
   ]
  },
  {
   "cell_type": "markdown",
   "metadata": {
    "id": "HuXFhIdEUBu3"
   },
   "source": [
    "We now split the data into a train and a test set, so we can create models on the training set in order to see how closely it will resemble the \"accuracy\" of the test set and/or the true population. In order to do this, we held out on 20% of the data, so the test set is smaller than the training set. You want the training set to be larger to ensure a more accurate calculation of the performance of the model and then perform the test multiple times."
   ]
  },
  {
   "cell_type": "code",
   "execution_count": 11,
   "metadata": {
    "colab": {
     "base_uri": "https://localhost:8080/"
    },
    "id": "h-cX7CWFHjyP",
    "outputId": "6a1698c4-d735-4c99-9542-bbd5abee6751"
   },
   "outputs": [
    {
     "data": {
      "text/plain": [
       "((266, 7), (67, 7))"
      ]
     },
     "execution_count": 11,
     "metadata": {},
     "output_type": "execute_result"
    }
   ],
   "source": [
    "np.random.seed(1234)\n",
    "train, test = train_test_split(penguins_clean, test_size = 0.2) \n",
    "# hold out 20% of the data\n",
    "train.shape, test.shape"
   ]
  },
  {
   "cell_type": "markdown",
   "metadata": {
    "id": "A887ANSk7nMI"
   },
   "source": [
    "## Exploratory Data Analysis"
   ]
  },
  {
   "cell_type": "markdown",
   "metadata": {
    "id": "QZuFePbgSR2N"
   },
   "source": [
    "In this section, we performed EDA on the training set through multiple charts and graphs. In particular, we used summary tables, histograms, scatter plots, and box plots. Through looking at the different visualizations and tables, we are able to determine which three variables will be good predictors of species and will be used in our modeling."
   ]
  },
  {
   "cell_type": "code",
   "execution_count": 12,
   "metadata": {
    "colab": {
     "base_uri": "https://localhost:8080/",
     "height": 676
    },
    "id": "-mXOyxmj88FR",
    "outputId": "ad6182c2-8616-4fb1-e9f4-e0ad5316020e"
   },
   "outputs": [
    {
     "data": {
      "text/html": [
       "<div>\n",
       "<style scoped>\n",
       "    .dataframe tbody tr th:only-of-type {\n",
       "        vertical-align: middle;\n",
       "    }\n",
       "\n",
       "    .dataframe tbody tr th {\n",
       "        vertical-align: top;\n",
       "    }\n",
       "\n",
       "    .dataframe thead th {\n",
       "        text-align: right;\n",
       "    }\n",
       "</style>\n",
       "<table border=\"1\" class=\"dataframe\">\n",
       "  <thead>\n",
       "    <tr style=\"text-align: right;\">\n",
       "      <th></th>\n",
       "      <th>Species</th>\n",
       "      <th>Island</th>\n",
       "      <th>Culmen Length (mm)</th>\n",
       "      <th>Culmen Depth (mm)</th>\n",
       "      <th>Flipper Length (mm)</th>\n",
       "      <th>Body Mass (g)</th>\n",
       "      <th>Sex</th>\n",
       "    </tr>\n",
       "  </thead>\n",
       "  <tbody>\n",
       "    <tr>\n",
       "      <th>7</th>\n",
       "      <td>Adelie</td>\n",
       "      <td>Torgersen</td>\n",
       "      <td>39.2</td>\n",
       "      <td>19.6</td>\n",
       "      <td>195.0</td>\n",
       "      <td>4675.0</td>\n",
       "      <td>MALE</td>\n",
       "    </tr>\n",
       "    <tr>\n",
       "      <th>264</th>\n",
       "      <td>Gentoo</td>\n",
       "      <td>Biscoe</td>\n",
       "      <td>50.5</td>\n",
       "      <td>15.9</td>\n",
       "      <td>222.0</td>\n",
       "      <td>5550.0</td>\n",
       "      <td>MALE</td>\n",
       "    </tr>\n",
       "    <tr>\n",
       "      <th>138</th>\n",
       "      <td>Adelie</td>\n",
       "      <td>Dream</td>\n",
       "      <td>37.0</td>\n",
       "      <td>16.5</td>\n",
       "      <td>185.0</td>\n",
       "      <td>3400.0</td>\n",
       "      <td>FEMALE</td>\n",
       "    </tr>\n",
       "    <tr>\n",
       "      <th>28</th>\n",
       "      <td>Adelie</td>\n",
       "      <td>Biscoe</td>\n",
       "      <td>37.9</td>\n",
       "      <td>18.6</td>\n",
       "      <td>172.0</td>\n",
       "      <td>3150.0</td>\n",
       "      <td>FEMALE</td>\n",
       "    </tr>\n",
       "    <tr>\n",
       "      <th>152</th>\n",
       "      <td>Chinstrap</td>\n",
       "      <td>Dream</td>\n",
       "      <td>46.5</td>\n",
       "      <td>17.9</td>\n",
       "      <td>192.0</td>\n",
       "      <td>3500.0</td>\n",
       "      <td>FEMALE</td>\n",
       "    </tr>\n",
       "    <tr>\n",
       "      <th>61</th>\n",
       "      <td>Adelie</td>\n",
       "      <td>Biscoe</td>\n",
       "      <td>41.3</td>\n",
       "      <td>21.1</td>\n",
       "      <td>195.0</td>\n",
       "      <td>4400.0</td>\n",
       "      <td>MALE</td>\n",
       "    </tr>\n",
       "    <tr>\n",
       "      <th>29</th>\n",
       "      <td>Adelie</td>\n",
       "      <td>Biscoe</td>\n",
       "      <td>40.5</td>\n",
       "      <td>18.9</td>\n",
       "      <td>180.0</td>\n",
       "      <td>3950.0</td>\n",
       "      <td>MALE</td>\n",
       "    </tr>\n",
       "    <tr>\n",
       "      <th>340</th>\n",
       "      <td>Gentoo</td>\n",
       "      <td>Biscoe</td>\n",
       "      <td>46.8</td>\n",
       "      <td>14.3</td>\n",
       "      <td>215.0</td>\n",
       "      <td>4850.0</td>\n",
       "      <td>FEMALE</td>\n",
       "    </tr>\n",
       "    <tr>\n",
       "      <th>278</th>\n",
       "      <td>Gentoo</td>\n",
       "      <td>Biscoe</td>\n",
       "      <td>43.2</td>\n",
       "      <td>14.5</td>\n",
       "      <td>208.0</td>\n",
       "      <td>4450.0</td>\n",
       "      <td>FEMALE</td>\n",
       "    </tr>\n",
       "    <tr>\n",
       "      <th>184</th>\n",
       "      <td>Chinstrap</td>\n",
       "      <td>Dream</td>\n",
       "      <td>42.5</td>\n",
       "      <td>16.7</td>\n",
       "      <td>187.0</td>\n",
       "      <td>3350.0</td>\n",
       "      <td>FEMALE</td>\n",
       "    </tr>\n",
       "    <tr>\n",
       "      <th>80</th>\n",
       "      <td>Adelie</td>\n",
       "      <td>Torgersen</td>\n",
       "      <td>34.6</td>\n",
       "      <td>17.2</td>\n",
       "      <td>189.0</td>\n",
       "      <td>3200.0</td>\n",
       "      <td>FEMALE</td>\n",
       "    </tr>\n",
       "    <tr>\n",
       "      <th>36</th>\n",
       "      <td>Adelie</td>\n",
       "      <td>Dream</td>\n",
       "      <td>38.8</td>\n",
       "      <td>20.0</td>\n",
       "      <td>190.0</td>\n",
       "      <td>3950.0</td>\n",
       "      <td>MALE</td>\n",
       "    </tr>\n",
       "    <tr>\n",
       "      <th>254</th>\n",
       "      <td>Gentoo</td>\n",
       "      <td>Biscoe</td>\n",
       "      <td>49.1</td>\n",
       "      <td>14.8</td>\n",
       "      <td>220.0</td>\n",
       "      <td>5150.0</td>\n",
       "      <td>FEMALE</td>\n",
       "    </tr>\n",
       "    <tr>\n",
       "      <th>130</th>\n",
       "      <td>Adelie</td>\n",
       "      <td>Torgersen</td>\n",
       "      <td>38.5</td>\n",
       "      <td>17.9</td>\n",
       "      <td>190.0</td>\n",
       "      <td>3325.0</td>\n",
       "      <td>FEMALE</td>\n",
       "    </tr>\n",
       "    <tr>\n",
       "      <th>86</th>\n",
       "      <td>Adelie</td>\n",
       "      <td>Dream</td>\n",
       "      <td>36.3</td>\n",
       "      <td>19.5</td>\n",
       "      <td>190.0</td>\n",
       "      <td>3800.0</td>\n",
       "      <td>MALE</td>\n",
       "    </tr>\n",
       "    <tr>\n",
       "      <th>197</th>\n",
       "      <td>Chinstrap</td>\n",
       "      <td>Dream</td>\n",
       "      <td>50.8</td>\n",
       "      <td>18.5</td>\n",
       "      <td>201.0</td>\n",
       "      <td>4450.0</td>\n",
       "      <td>MALE</td>\n",
       "    </tr>\n",
       "    <tr>\n",
       "      <th>34</th>\n",
       "      <td>Adelie</td>\n",
       "      <td>Dream</td>\n",
       "      <td>36.4</td>\n",
       "      <td>17.0</td>\n",
       "      <td>195.0</td>\n",
       "      <td>3325.0</td>\n",
       "      <td>FEMALE</td>\n",
       "    </tr>\n",
       "    <tr>\n",
       "      <th>335</th>\n",
       "      <td>Gentoo</td>\n",
       "      <td>Biscoe</td>\n",
       "      <td>55.1</td>\n",
       "      <td>16.0</td>\n",
       "      <td>230.0</td>\n",
       "      <td>5850.0</td>\n",
       "      <td>MALE</td>\n",
       "    </tr>\n",
       "    <tr>\n",
       "      <th>205</th>\n",
       "      <td>Chinstrap</td>\n",
       "      <td>Dream</td>\n",
       "      <td>50.7</td>\n",
       "      <td>19.7</td>\n",
       "      <td>203.0</td>\n",
       "      <td>4050.0</td>\n",
       "      <td>MALE</td>\n",
       "    </tr>\n",
       "    <tr>\n",
       "      <th>199</th>\n",
       "      <td>Chinstrap</td>\n",
       "      <td>Dream</td>\n",
       "      <td>49.0</td>\n",
       "      <td>19.6</td>\n",
       "      <td>212.0</td>\n",
       "      <td>4300.0</td>\n",
       "      <td>MALE</td>\n",
       "    </tr>\n",
       "  </tbody>\n",
       "</table>\n",
       "</div>"
      ],
      "text/plain": [
       "       Species     Island  Culmen Length (mm)  Culmen Depth (mm)  \\\n",
       "7       Adelie  Torgersen                39.2               19.6   \n",
       "264     Gentoo     Biscoe                50.5               15.9   \n",
       "138     Adelie      Dream                37.0               16.5   \n",
       "28      Adelie     Biscoe                37.9               18.6   \n",
       "152  Chinstrap      Dream                46.5               17.9   \n",
       "61      Adelie     Biscoe                41.3               21.1   \n",
       "29      Adelie     Biscoe                40.5               18.9   \n",
       "340     Gentoo     Biscoe                46.8               14.3   \n",
       "278     Gentoo     Biscoe                43.2               14.5   \n",
       "184  Chinstrap      Dream                42.5               16.7   \n",
       "80      Adelie  Torgersen                34.6               17.2   \n",
       "36      Adelie      Dream                38.8               20.0   \n",
       "254     Gentoo     Biscoe                49.1               14.8   \n",
       "130     Adelie  Torgersen                38.5               17.9   \n",
       "86      Adelie      Dream                36.3               19.5   \n",
       "197  Chinstrap      Dream                50.8               18.5   \n",
       "34      Adelie      Dream                36.4               17.0   \n",
       "335     Gentoo     Biscoe                55.1               16.0   \n",
       "205  Chinstrap      Dream                50.7               19.7   \n",
       "199  Chinstrap      Dream                49.0               19.6   \n",
       "\n",
       "     Flipper Length (mm)  Body Mass (g)     Sex  \n",
       "7                  195.0         4675.0    MALE  \n",
       "264                222.0         5550.0    MALE  \n",
       "138                185.0         3400.0  FEMALE  \n",
       "28                 172.0         3150.0  FEMALE  \n",
       "152                192.0         3500.0  FEMALE  \n",
       "61                 195.0         4400.0    MALE  \n",
       "29                 180.0         3950.0    MALE  \n",
       "340                215.0         4850.0  FEMALE  \n",
       "278                208.0         4450.0  FEMALE  \n",
       "184                187.0         3350.0  FEMALE  \n",
       "80                 189.0         3200.0  FEMALE  \n",
       "36                 190.0         3950.0    MALE  \n",
       "254                220.0         5150.0  FEMALE  \n",
       "130                190.0         3325.0  FEMALE  \n",
       "86                 190.0         3800.0    MALE  \n",
       "197                201.0         4450.0    MALE  \n",
       "34                 195.0         3325.0  FEMALE  \n",
       "335                230.0         5850.0    MALE  \n",
       "205                203.0         4050.0    MALE  \n",
       "199                212.0         4300.0    MALE  "
      ]
     },
     "execution_count": 12,
     "metadata": {},
     "output_type": "execute_result"
    }
   ],
   "source": [
    "train.head(20)"
   ]
  },
  {
   "cell_type": "markdown",
   "metadata": {
    "id": "TM6QNlUbY-XW"
   },
   "source": [
    "We decided to pick the specific qualitative variables Sex and Island and compare them against the quantitative variables Culmen Length, Culmen Depth, Flipper Length, and Body Mass within sumary tables. Using the function below, we can choose what we want to observe specifically and draw meaningful conclusions."
   ]
  },
  {
   "cell_type": "code",
   "execution_count": 13,
   "metadata": {
    "id": "ouZXp6OFu0M3"
   },
   "outputs": [],
   "source": [
    "def summary_table(df, group_cols, value_cols):\n",
    "    return df.groupby(group_cols)[value_cols].mean().round(2)"
   ]
  },
  {
   "cell_type": "code",
   "execution_count": 14,
   "metadata": {
    "colab": {
     "base_uri": "https://localhost:8080/",
     "height": 269
    },
    "id": "8VfbUjP9vWwf",
    "outputId": "54187f88-adab-427c-c2c0-18e4a80fb9be"
   },
   "outputs": [
    {
     "data": {
      "text/html": [
       "<div>\n",
       "<style scoped>\n",
       "    .dataframe tbody tr th:only-of-type {\n",
       "        vertical-align: middle;\n",
       "    }\n",
       "\n",
       "    .dataframe tbody tr th {\n",
       "        vertical-align: top;\n",
       "    }\n",
       "\n",
       "    .dataframe thead th {\n",
       "        text-align: right;\n",
       "    }\n",
       "</style>\n",
       "<table border=\"1\" class=\"dataframe\">\n",
       "  <thead>\n",
       "    <tr style=\"text-align: right;\">\n",
       "      <th></th>\n",
       "      <th></th>\n",
       "      <th>Culmen Length (mm)</th>\n",
       "      <th>Culmen Depth (mm)</th>\n",
       "      <th>Flipper Length (mm)</th>\n",
       "      <th>Body Mass (g)</th>\n",
       "    </tr>\n",
       "    <tr>\n",
       "      <th>Species</th>\n",
       "      <th>Sex</th>\n",
       "      <th></th>\n",
       "      <th></th>\n",
       "      <th></th>\n",
       "      <th></th>\n",
       "    </tr>\n",
       "  </thead>\n",
       "  <tbody>\n",
       "    <tr>\n",
       "      <th rowspan=\"2\" valign=\"top\">Adelie</th>\n",
       "      <th>FEMALE</th>\n",
       "      <td>37.06</td>\n",
       "      <td>17.69</td>\n",
       "      <td>187.80</td>\n",
       "      <td>3388.89</td>\n",
       "    </tr>\n",
       "    <tr>\n",
       "      <th>MALE</th>\n",
       "      <td>40.48</td>\n",
       "      <td>19.06</td>\n",
       "      <td>192.10</td>\n",
       "      <td>4028.02</td>\n",
       "    </tr>\n",
       "    <tr>\n",
       "      <th rowspan=\"2\" valign=\"top\">Chinstrap</th>\n",
       "      <th>FEMALE</th>\n",
       "      <td>46.70</td>\n",
       "      <td>17.58</td>\n",
       "      <td>191.54</td>\n",
       "      <td>3501.92</td>\n",
       "    </tr>\n",
       "    <tr>\n",
       "      <th>MALE</th>\n",
       "      <td>51.33</td>\n",
       "      <td>19.24</td>\n",
       "      <td>200.11</td>\n",
       "      <td>3965.18</td>\n",
       "    </tr>\n",
       "    <tr>\n",
       "      <th rowspan=\"2\" valign=\"top\">Gentoo</th>\n",
       "      <th>FEMALE</th>\n",
       "      <td>45.66</td>\n",
       "      <td>14.26</td>\n",
       "      <td>212.98</td>\n",
       "      <td>4697.45</td>\n",
       "    </tr>\n",
       "    <tr>\n",
       "      <th>MALE</th>\n",
       "      <td>49.73</td>\n",
       "      <td>15.76</td>\n",
       "      <td>221.86</td>\n",
       "      <td>5492.65</td>\n",
       "    </tr>\n",
       "  </tbody>\n",
       "</table>\n",
       "</div>"
      ],
      "text/plain": [
       "                  Culmen Length (mm)  Culmen Depth (mm)  Flipper Length (mm)  \\\n",
       "Species   Sex                                                                  \n",
       "Adelie    FEMALE               37.06              17.69               187.80   \n",
       "          MALE                 40.48              19.06               192.10   \n",
       "Chinstrap FEMALE               46.70              17.58               191.54   \n",
       "          MALE                 51.33              19.24               200.11   \n",
       "Gentoo    FEMALE               45.66              14.26               212.98   \n",
       "          MALE                 49.73              15.76               221.86   \n",
       "\n",
       "                  Body Mass (g)  \n",
       "Species   Sex                    \n",
       "Adelie    FEMALE        3388.89  \n",
       "          MALE          4028.02  \n",
       "Chinstrap FEMALE        3501.92  \n",
       "          MALE          3965.18  \n",
       "Gentoo    FEMALE        4697.45  \n",
       "          MALE          5492.65  "
      ]
     },
     "execution_count": 14,
     "metadata": {},
     "output_type": "execute_result"
    }
   ],
   "source": [
    "summary_table(train, [\"Species\", \"Sex\"], [\"Culmen Length (mm)\", \n",
    "                                          \"Culmen Depth (mm)\", \n",
    "                                          \"Flipper Length (mm)\", \n",
    "                                          \"Body Mass (g)\"])"
   ]
  },
  {
   "cell_type": "code",
   "execution_count": 15,
   "metadata": {
    "colab": {
     "base_uri": "https://localhost:8080/",
     "height": 237
    },
    "id": "YNrVuX2ly5sl",
    "outputId": "4c776ea8-7ee7-4091-eabc-049c3e28c53e"
   },
   "outputs": [
    {
     "data": {
      "text/html": [
       "<div>\n",
       "<style scoped>\n",
       "    .dataframe tbody tr th:only-of-type {\n",
       "        vertical-align: middle;\n",
       "    }\n",
       "\n",
       "    .dataframe tbody tr th {\n",
       "        vertical-align: top;\n",
       "    }\n",
       "\n",
       "    .dataframe thead th {\n",
       "        text-align: right;\n",
       "    }\n",
       "</style>\n",
       "<table border=\"1\" class=\"dataframe\">\n",
       "  <thead>\n",
       "    <tr style=\"text-align: right;\">\n",
       "      <th></th>\n",
       "      <th></th>\n",
       "      <th>Culmen Length (mm)</th>\n",
       "      <th>Culmen Depth (mm)</th>\n",
       "      <th>Flipper Length (mm)</th>\n",
       "      <th>Body Mass (g)</th>\n",
       "    </tr>\n",
       "    <tr>\n",
       "      <th>Species</th>\n",
       "      <th>Island</th>\n",
       "      <th></th>\n",
       "      <th></th>\n",
       "      <th></th>\n",
       "      <th></th>\n",
       "    </tr>\n",
       "  </thead>\n",
       "  <tbody>\n",
       "    <tr>\n",
       "      <th rowspan=\"3\" valign=\"top\">Adelie</th>\n",
       "      <th>Biscoe</th>\n",
       "      <td>38.97</td>\n",
       "      <td>18.39</td>\n",
       "      <td>188.40</td>\n",
       "      <td>3703.57</td>\n",
       "    </tr>\n",
       "    <tr>\n",
       "      <th>Dream</th>\n",
       "      <td>38.60</td>\n",
       "      <td>18.26</td>\n",
       "      <td>189.88</td>\n",
       "      <td>3682.14</td>\n",
       "    </tr>\n",
       "    <tr>\n",
       "      <th>Torgersen</th>\n",
       "      <td>38.97</td>\n",
       "      <td>18.58</td>\n",
       "      <td>191.83</td>\n",
       "      <td>3781.43</td>\n",
       "    </tr>\n",
       "    <tr>\n",
       "      <th>Chinstrap</th>\n",
       "      <th>Dream</th>\n",
       "      <td>49.10</td>\n",
       "      <td>18.44</td>\n",
       "      <td>195.98</td>\n",
       "      <td>3742.13</td>\n",
       "    </tr>\n",
       "    <tr>\n",
       "      <th>Gentoo</th>\n",
       "      <th>Biscoe</th>\n",
       "      <td>47.74</td>\n",
       "      <td>15.03</td>\n",
       "      <td>217.51</td>\n",
       "      <td>5103.00</td>\n",
       "    </tr>\n",
       "  </tbody>\n",
       "</table>\n",
       "</div>"
      ],
      "text/plain": [
       "                     Culmen Length (mm)  Culmen Depth (mm)  \\\n",
       "Species   Island                                             \n",
       "Adelie    Biscoe                  38.97              18.39   \n",
       "          Dream                   38.60              18.26   \n",
       "          Torgersen               38.97              18.58   \n",
       "Chinstrap Dream                   49.10              18.44   \n",
       "Gentoo    Biscoe                  47.74              15.03   \n",
       "\n",
       "                     Flipper Length (mm)  Body Mass (g)  \n",
       "Species   Island                                         \n",
       "Adelie    Biscoe                  188.40        3703.57  \n",
       "          Dream                   189.88        3682.14  \n",
       "          Torgersen               191.83        3781.43  \n",
       "Chinstrap Dream                   195.98        3742.13  \n",
       "Gentoo    Biscoe                  217.51        5103.00  "
      ]
     },
     "execution_count": 15,
     "metadata": {},
     "output_type": "execute_result"
    }
   ],
   "source": [
    "summary_table(train, [\"Species\", \"Island\"], [\"Culmen Length (mm)\", \n",
    "                                             \"Culmen Depth (mm)\", \n",
    "                                             \"Flipper Length (mm)\", \n",
    "                                             \"Body Mass (g)\"])"
   ]
  },
  {
   "cell_type": "markdown",
   "metadata": {
    "id": "z4KnPznWzZKq"
   },
   "source": [
    "These tables show the corelation between different qualitative and quantitative features of each of the different species. The two summary tables show that Island is a better qualitative predictor because it narrows down which Species the penguin could be. Whereas with Sex, there are both sexes for each species. As we can see, Adelie is on all three islands where as Chinstrap is only on Dream and Gentoo is only on Biscoe. \n",
    "\n",
    "Flipper Length seems to vary based on species. The length is the highest for Gentoo and the lowest for Adelie, and Chinstrap finds itself somewhere in the middle. Thus, it is a good quantitative predictor variable for species. This is the same for Culmen Length except Chinstrap has the highest length for this variable."
   ]
  },
  {
   "cell_type": "markdown",
   "metadata": {
    "id": "oMeZmkzOYlrC"
   },
   "source": [
    "Using the function below, we can create histograms to compare each of the quantitative variables and see how they differ between each of the species. We can input the quantitative variable we want to observe and plot it accordingly."
   ]
  },
  {
   "cell_type": "code",
   "execution_count": 16,
   "metadata": {
    "id": "e-1t8SnCqMPk"
   },
   "outputs": [],
   "source": [
    "def plot_hist(df, colname, alpha):\n",
    "    ax.hist(df[colname], alpha = alpha, label = df[\"Species\"])\n",
    "    ax.set(xlabel = colname, ylabel = \"Density\")\n",
    "    ax.legend()"
   ]
  },
  {
   "cell_type": "markdown",
   "metadata": {
    "id": "zQvAgfESYEYd"
   },
   "source": [
    "Now we will implement the function with different variables we want to examine about the penguins."
   ]
  },
  {
   "cell_type": "code",
   "execution_count": 17,
   "metadata": {
    "colab": {
     "base_uri": "https://localhost:8080/",
     "height": 295
    },
    "id": "6jIt4Czkqx1c",
    "outputId": "085d086a-4ac4-442f-ae60-82f0bb19619d"
   },
   "outputs": [
    {
     "data": {
      "image/png": "[encoded data removed]",
      "text/plain": [
       "<Figure size 432x288 with 1 Axes>"
      ]
     },
     "metadata": {
      "needs_background": "light"
     },
     "output_type": "display_data"
    }
   ],
   "source": [
    "fig,ax = plt.subplots(1)\n",
    "fig = train.groupby(\"Species\").apply(plot_hist, \"Culmen Length (mm)\", 0.5)\n",
    "ax.set(title = \"Distribution of Species Based on Culmen Length\");"
   ]
  },
  {
   "cell_type": "code",
   "execution_count": 18,
   "metadata": {
    "colab": {
     "base_uri": "https://localhost:8080/",
     "height": 295
    },
    "id": "6faZ6iZ7kVbT",
    "outputId": "f26271c1-7529-46c2-901b-dcbb24b3ed7f"
   },
   "outputs": [
    {
     "data": {
      "image/png": "[encoded data removed]",
      "text/plain": [
       "<Figure size 432x288 with 1 Axes>"
      ]
     },
     "metadata": {
      "needs_background": "light"
     },
     "output_type": "display_data"
    }
   ],
   "source": [
    "fig, ax = plt.subplots(1)\n",
    "train.groupby(\"Species\").apply(plot_hist, 'Culmen Depth (mm)', 0.5)\n",
    "ax.set(title = \"Distribution of Species Based on Culmen Depth\");"
   ]
  },
  {
   "cell_type": "code",
   "execution_count": 19,
   "metadata": {
    "colab": {
     "base_uri": "https://localhost:8080/",
     "height": 295
    },
    "id": "nWa6kGVskZ8X",
    "outputId": "a665e06e-a7d1-4fac-ebae-e2b6d33c4e32"
   },
   "outputs": [
    {
     "data": {
      "image/png": "[encoded data removed]",
      "text/plain": [
       "<Figure size 432x288 with 1 Axes>"
      ]
     },
     "metadata": {
      "needs_background": "light"
     },
     "output_type": "display_data"
    }
   ],
   "source": [
    "fig, ax = plt.subplots(1)\n",
    "train.groupby(\"Species\").apply(plot_hist, 'Flipper Length (mm)', 0.5)\n",
    "ax.set(title = \"Distribution of Species Based on Flipper Length\");"
   ]
  },
  {
   "cell_type": "code",
   "execution_count": 20,
   "metadata": {
    "colab": {
     "base_uri": "https://localhost:8080/",
     "height": 295
    },
    "id": "qAZVibH0mWBP",
    "outputId": "4095f394-6e0f-4677-a2a9-9e63a89669e4"
   },
   "outputs": [
    {
     "data": {
      "image/png": "[encoded data removed]",
      "text/plain": [
       "<Figure size 432x288 with 1 Axes>"
      ]
     },
     "metadata": {
      "needs_background": "light"
     },
     "output_type": "display_data"
    }
   ],
   "source": [
    "fig, ax = plt.subplots(1)\n",
    "train.groupby(\"Species\").apply(plot_hist, 'Body Mass (g)', 0.5)\n",
    "ax.set(title = \"Distribution of Species Based on Body Mass\");"
   ]
  },
  {
   "cell_type": "markdown",
   "metadata": {
    "id": "X0zvZyjjVHEc"
   },
   "source": [
    "This function is very clean and easy to use, but it plotted the graphs each separately. In order to better compare the different variables, we will look at them side by side and see what we can decipher from the graphs."
   ]
  },
  {
   "cell_type": "code",
   "execution_count": 21,
   "metadata": {
    "colab": {
     "base_uri": "https://localhost:8080/",
     "height": 370
    },
    "id": "8mF6kUTXUzIr",
    "outputId": "77327c60-8fab-4e4c-d042-c0a555a200fb"
   },
   "outputs": [
    {
     "data": {
      "image/png": "[encoded data removed]",
      "text/plain": [
       "<Figure size 1440x360 with 4 Axes>"
      ]
     },
     "metadata": {
      "needs_background": "light"
     },
     "output_type": "display_data"
    }
   ],
   "source": [
    "fig, ax = plt.subplots(1, 4, figsize = (20, 5), sharey = True)\n",
    "featureList = [\"Body Mass (g)\", \"Flipper Length (mm)\",\n",
    "               \"Culmen Depth (mm)\", \"Culmen Length (mm)\"]\n",
    "\n",
    "ax[0].set(ylabel = \"Density of Penguins\")\n",
    "\n",
    "for i in range (0,len(featureList)):\n",
    "    for j in train[\"Species\"].unique():\n",
    "        df = train[train[\"Species\"] == j]\n",
    "        ax[i].set(xlabel = featureList[i])\n",
    "        ax[i].hist(df[featureList[i]], label = j, alpha = 0.5)\n",
    "\n",
    "plt.legend()\n",
    "fig.suptitle(\"Distrubution of Species Based on Each Quantitative Feature\");"
   ]
  },
  {
   "cell_type": "markdown",
   "metadata": {
    "id": "pBLgxdiDVdQC"
   },
   "source": [
    "There seem to be more Adelie and Gentoo penguins that Chinstrap penguins. We will examine each histogram starting with the first plot which is the plot farthest to the left.\n",
    "\n",
    "**(1)** This histogram shows that there is the largest difference of Body Mass with Gentoo penguins compared to that of Adelie or Chinstrap penguins. Adelie and Chinstrap do not differ in terms of Body Mass by as much.\n",
    "\n",
    "**(2)** There is a larger spread of the penguins when looking at Flipper Length with Adelie having the shortest flippers, Gentoo having the longest, and Chinstrap being somewhere in the middle at least to some extent. With this in mind, Flipper Length is more telling since the penguins differ a bit more in terms of what their range of Flipper Length is based on the species, so this is a good quantitative variable to look at.\n",
    "\n",
    "**(3)** When it comes to Culmen Depth, Adelie and Chinstrap have larger Culmen Depths whereas Gentoo has lower Culmen Depths on average. Having larger depths, Culmen and Adelie do differ in sizes a bit just as Flipper Length does, so it could potentially be a telling variable. We will determine this later on as we examine the variables even further.\n",
    "\n",
    "**(4)** As we see here, Adelie have lower Culmen Lengths compared to Chinstrap and Gentoo. Both Chinstrap and Gentoo have longer Culmen Lengths, but their lengths seem to range form around the same sizes which is not as telling when it comes to predicting the species of the penguin."
   ]
  },
  {
   "cell_type": "markdown",
   "metadata": {
    "id": "FIs895jGYKVw"
   },
   "source": [
    "Next, we will examine scatter plots of the data set based on the qualitative features Sex and Island. We will determine if there is any interesting information regarding the Sex or Island of the penguin that can be used to predict the species."
   ]
  },
  {
   "cell_type": "code",
   "execution_count": 22,
   "metadata": {
    "colab": {
     "base_uri": "https://localhost:8080/",
     "height": 225
    },
    "id": "Qc2Pm0IxrLF1",
    "outputId": "15571fa6-67b5-4da9-f0d5-b85d6197a8f3"
   },
   "outputs": [
    {
     "data": {
      "image/png": "[encoded data removed]",
      "text/plain": [
       "<Figure size 516.125x216 with 2 Axes>"
      ]
     },
     "metadata": {
      "needs_background": "light"
     },
     "output_type": "display_data"
    }
   ],
   "source": [
    "fgrid = sns.relplot(x = \"Culmen Length (mm)\", \n",
    "                    y = \"Culmen Depth (mm)\", \n",
    "                    hue = \"Species\",\n",
    "                    col = \"Sex\",\n",
    "                    height = 3,\n",
    "                    aspect = 1, \n",
    "                    data = train)"
   ]
  },
  {
   "cell_type": "markdown",
   "metadata": {
    "id": "ddkNU43fpk3a"
   },
   "source": [
    "These scatter plots show the difference between the Culmen Length and the Culmen Depth based on Sex. As we can see, the correlation between the two quantitative variables does not seem to be very strong with Males or Females. We can definitely see clusters that can be made out between the different species, but in separating the plots by Sex, Sex is not that informative. The plots of those of Males vs those of Females seem to be about the same, failing to relay any importance when it comes to the Sex of the penguins in regards to Culmen Length and Culmen Depth. We will explore Island next to see if it is more informative than Sex seemed to be in these plots."
   ]
  },
  {
   "cell_type": "code",
   "execution_count": 23,
   "metadata": {
    "colab": {
     "base_uri": "https://localhost:8080/",
     "height": 225
    },
    "id": "2Yb-7kG1qUWn",
    "outputId": "c850d6d3-c2b9-4271-ad62-d9d8966c04f3"
   },
   "outputs": [
    {
     "data": {
      "image/png": "[encoded data removed]",
      "text/plain": [
       "<Figure size 732.125x216 with 3 Axes>"
      ]
     },
     "metadata": {
      "needs_background": "light"
     },
     "output_type": "display_data"
    }
   ],
   "source": [
    "fgrid = sns.relplot(x = \"Culmen Length (mm)\", \n",
    "                    y = \"Culmen Depth (mm)\", \n",
    "                    hue = \"Species\",\n",
    "                    col = \"Island\",\n",
    "                    height = 3,\n",
    "                    aspect = 1, \n",
    "                    data = train)"
   ]
  },
  {
   "cell_type": "markdown",
   "metadata": {
    "id": "wZiZd-zGqFnc"
   },
   "source": [
    "The qualitative feature Island is much more telling. With these scatter plots, it is clear that only the Adelie species is on Torgersen, only the Gentoo and Adelie species are on Biscoe, and on Dream, only the Chinstrap and Adelie species are present. Not only this, it is clear that if we examine the individual islands which already narrows the species down even further, then the Culmen Length does differ quite a bit depending on the species which makes it even easier to decipher which species the penguin is.\n",
    "\n",
    "Therefore, the qualitative variable of Island is a great predictor to look at, and Culmen Length is also informative as to which species the penguin could be."
   ]
  },
  {
   "cell_type": "markdown",
   "metadata": {
    "id": "263WZuFDcMK-"
   },
   "source": [
    "Next, we used boxplots to examine the different quantitative variables based on the Island of the penguin."
   ]
  },
  {
   "cell_type": "code",
   "execution_count": 24,
   "metadata": {
    "colab": {
     "base_uri": "https://localhost:8080/",
     "height": 279
    },
    "id": "BI8ncj3NsbC8",
    "outputId": "4ac26b1a-703d-426d-f872-a3f28d743045"
   },
   "outputs": [
    {
     "data": {
      "image/png": "[encoded data removed]",
      "text/plain": [
       "<Figure size 432x288 with 1 Axes>"
      ]
     },
     "metadata": {
      "needs_background": "light"
     },
     "output_type": "display_data"
    }
   ],
   "source": [
    "fgrid = sns.boxplot(x = \"Culmen Length (mm)\", \n",
    "                    y = \"Island\",\n",
    "                    hue = \"Species\",\n",
    "                    data = train)\n",
    "plt.suptitle(\"Culmen Length Based on Island and Species\");"
   ]
  },
  {
   "cell_type": "markdown",
   "metadata": {
    "id": "h0l4V4URqp3t"
   },
   "source": [
    "As shown above in the box plot, this yields the same result as the scatter plot based on the variable Island. This further confirms that we should use the qualititive variable Island as our qualitative variable because it clearly narrows down the species, and when looking at Culmen Length again, it is confirmed that Culmen Length on each Island differs based on the species. Thus, it will be useful to use Island and Culmen Length because when we examine the different Islands, we narrow down the species to either Adelie if the Island is Torgersen, Adelie or Gentoo if on Biscoe, and Adelie or Chinstrap if on Dream. Then, by comparing the Culmen Length of the species Gentoo and Chinstrap, we are able to potentially determine our target species. However in order to better analyze this, we need another quantitative variable."
   ]
  },
  {
   "cell_type": "code",
   "execution_count": 25,
   "metadata": {
    "colab": {
     "base_uri": "https://localhost:8080/",
     "height": 279
    },
    "id": "a57Gk7D7skF_",
    "outputId": "0c266b43-060b-4138-86bb-5b1fcfe2034d"
   },
   "outputs": [
    {
     "data": {
      "image/png": "[encoded data removed]",
      "text/plain": [
       "<Figure size 432x288 with 1 Axes>"
      ]
     },
     "metadata": {
      "needs_background": "light"
     },
     "output_type": "display_data"
    }
   ],
   "source": [
    "fgrid = sns.boxplot(x = \"Body Mass (g)\", \n",
    "                    y = \"Island\",\n",
    "                    hue = \"Species\",\n",
    "                    data = train)\n",
    "plt.suptitle(\"Body Mass Based on Island and Species\");"
   ]
  },
  {
   "cell_type": "markdown",
   "metadata": {
    "id": "pxRdmWIqrWGY"
   },
   "source": [
    "In this box plot, there is a big diference between Gentoo and the other two species, so we could use it as our second quantiative variable, but we will examine another quantitative variable to see if it yields better results. In this plot, we see that Dream and Adelie are the closest in terms of Body Mass whereas the Body Mass of Gentoo is significantly higher. If we used this variable, it may be harder to determine the species between Adelie and Chinstrap because their range of Body Mass is very similar."
   ]
  },
  {
   "cell_type": "code",
   "execution_count": 26,
   "metadata": {
    "colab": {
     "base_uri": "https://localhost:8080/",
     "height": 279
    },
    "id": "7WoQPTJyr_T4",
    "outputId": "7eadae98-2043-4f7d-d639-c57afaa8fed8"
   },
   "outputs": [
    {
     "data": {
      "image/png": "[encoded data removed]",
      "text/plain": [
       "<Figure size 432x288 with 1 Axes>"
      ]
     },
     "metadata": {
      "needs_background": "light"
     },
     "output_type": "display_data"
    }
   ],
   "source": [
    "fgrid = sns.boxplot(x = \"Culmen Depth (mm)\", \n",
    "                    y = \"Island\",\n",
    "                    hue = \"Species\",\n",
    "                    data = train)\n",
    "plt.suptitle(\"Culmen Depth Based on Island and Species\");"
   ]
  },
  {
   "cell_type": "markdown",
   "metadata": {
    "id": "C9ONx3GYrii-"
   },
   "source": [
    "Just as with Body Mass, the Culmen Depth of the Chinstrap species most closely resembles the Adelie species. Gentoo is farther to the left in this boxplot because it has a lower Culmen Depth so this is another potential variable that we can use to determine the Gentoo species, but let's explore even further."
   ]
  },
  {
   "cell_type": "code",
   "execution_count": 27,
   "metadata": {
    "colab": {
     "base_uri": "https://localhost:8080/",
     "height": 279
    },
    "id": "dANGcLw0sDZv",
    "outputId": "6e2ded14-23e1-4cdd-ef43-8935ce606a7e"
   },
   "outputs": [
    {
     "data": {
      "image/png": "[encoded data removed]",
      "text/plain": [
       "<Figure size 432x288 with 1 Axes>"
      ]
     },
     "metadata": {
      "needs_background": "light"
     },
     "output_type": "display_data"
    }
   ],
   "source": [
    "fgrid = sns.boxplot(x = \"Flipper Length (mm)\", \n",
    "                    y = \"Island\",\n",
    "                    hue = \"Species\",\n",
    "                    data = train)\n",
    "plt.suptitle(\"Flipper Length Based on Island and Species\");"
   ]
  },
  {
   "cell_type": "markdown",
   "metadata": {
    "id": "lCwId9Go3NY4"
   },
   "source": [
    "In this boxplot, we see that there is a large distincftion between Gentoo and the other two species once again. However the key difference with Flipper Length from the other variables (besides Culmen Length) is that there is a slightly larger distinction between Adelie and Chinstrap compared to the other quantitative variables where we observed that these two species moreso overlapped in size of the quantitative variables. \n",
    "\n",
    "This is why we will choose Flipper Length as a good predictor variable because it does show more differentiation between the species in their lengths than the other variables. We will move on to further examine Culmen Length, Flipper Length, and Island. If you would like to see the boxplots once again, we used a for loop to plot each of them one after another one more time, so we can examine them together and see how each quantitative variable differs."
   ]
  },
  {
   "cell_type": "code",
   "execution_count": 28,
   "metadata": {},
   "outputs": [
    {
     "data": {
      "image/png": "[encoded data removed]",
      "text/plain": [
       "<Figure size 432x288 with 1 Axes>"
      ]
     },
     "metadata": {
      "needs_background": "light"
     },
     "output_type": "display_data"
    },
    {
     "data": {
      "image/png": "[encoded data removed]",
      "text/plain": [
       "<Figure size 432x288 with 1 Axes>"
      ]
     },
     "metadata": {
      "needs_background": "light"
     },
     "output_type": "display_data"
    },
    {
     "data": {
      "image/png": "[encoded data removed]",
      "text/plain": [
       "<Figure size 432x288 with 1 Axes>"
      ]
     },
     "metadata": {
      "needs_background": "light"
     },
     "output_type": "display_data"
    },
    {
     "data": {
      "image/png": "[encoded data removed]",
      "text/plain": [
       "<Figure size 432x288 with 1 Axes>"
      ]
     },
     "metadata": {
      "needs_background": "light"
     },
     "output_type": "display_data"
    }
   ],
   "source": [
    "quantitative_var = ['Culmen Length (mm)', \n",
    "                    'Body Mass (g)', \n",
    "                    'Culmen Depth (mm)', \n",
    "                    'Flipper Length (mm)']\n",
    "for var in quantitative_var:\n",
    "    fgrid = sns.boxplot(x = var, \n",
    "                    y = \"Island\",\n",
    "                    hue = \"Species\",\n",
    "                    data = train)\n",
    "    plt.suptitle(str(var) + \" Based on Island and Species\")\n",
    "    plt.show()"
   ]
  },
  {
   "cell_type": "markdown",
   "metadata": {
    "id": "P-am5vPK8wse"
   },
   "source": [
    "# Feature Selection\n",
    "Based on the EDA, we decided to select the predictor variables **Island**, **Culmen Length**, and **Flipper Length**. We have chosen these variables to predict the target variable Species because we want to examine the variables that are the most differentiable between the species for our predictions. Island was very telling in the way that only certain species existed on each unique Island. This will lead us to more easily narrow down the species just off of what Island the species belongs to. Culmen Length differed a lot based on the species, so it is a great variable to look at in order to predict species. The second most telling quantitative variable was in fact Flipper Length which we decided on after finally examining the boxplots."
   ]
  },
  {
   "cell_type": "markdown",
   "metadata": {
    "id": "k1AEEKCn8IRB"
   },
   "source": [
    "## Data Cleaning, Split into X (predictor data -> Island, Culmen Length, Flipper Length) and y (target data -> Species)\n",
    "We dropped all of the columns except for the 3 chosen predictor variables and the 1 target variable, species. We then split the data, so the target variable is separated from the predictor variables. We also did some additional cleaning to make the data modeling easier. The X variable holds the predictive variables (Culmen Length, Flipper Length, and Island) and the Y variable holds the target variable we want to predict: Species."
   ]
  },
  {
   "cell_type": "code",
   "execution_count": 29,
   "metadata": {
    "id": "6B64A-vnFBBY"
   },
   "outputs": [],
   "source": [
    "def prep_penguins(data_df):\n",
    "    '''\n",
    "    Params: \n",
    "      data_df: the data set penguins\n",
    "    Returns:\n",
    "      X: Island, Culmen Length (mm), Flipper Length (mm)\n",
    "      y: Species (as 0, 1, or 2)\n",
    "    '''\n",
    "    df = data_df.copy()\n",
    "    \n",
    "    le = preprocessing.LabelEncoder()\n",
    "    df['Sex'] = le.fit_transform(df['Sex'])\n",
    "    df['Island'] = le.fit_transform(df['Island'])\n",
    "    df['Species'] = le.fit_transform(df['Species'])\n",
    "\n",
    "    # drop unnecessary columns\n",
    "    # only keep 1 qualitative and 2 quantitative variables\n",
    "    df = df.drop(['Culmen Depth (mm)', \n",
    "                  'Body Mass (g)',\n",
    "                  'Sex'], axis = 1)\n",
    "\n",
    "    # split into X and y\n",
    "    X = df.drop(['Species'], axis = 1)\n",
    "    y = df['Species']\n",
    "\n",
    "\n",
    "    return(X, y)"
   ]
  },
  {
   "cell_type": "markdown",
   "metadata": {
    "id": "TaLL1hvS4lAe"
   },
   "source": [
    "During the data prep, we needed to transform the qualitative variables into quantitative variables. This is why we turned the Sex, Island, and Species into 0s, 1s, and 2s so we can work with them. This is necessary because we found that our models did not work if we kept them as qualitative variables because these models cannot work with the qualitative category names, so we replaced the names with number representations.\n",
    "\n",
    "During this section in order to further clean we also dropped the columns Sex, Body Mass, and Culmen Depth because they are irrelevant to our model. We also dropped species from our X because we want the X to just be the predictor variables. We made our y the species, target variable."
   ]
  },
  {
   "cell_type": "code",
   "execution_count": 30,
   "metadata": {
    "id": "JpMkB3VPF5eI"
   },
   "outputs": [],
   "source": [
    "X_train, y_train = prep_penguins(train)\n",
    "X_test, y_test = prep_penguins(test)"
   ]
  },
  {
   "cell_type": "markdown",
   "metadata": {
    "id": "ysLakUZj5tb5"
   },
   "source": [
    "Now we have separate training and test sets split between the predictor variables and the target variable."
   ]
  },
  {
   "cell_type": "code",
   "execution_count": 31,
   "metadata": {
    "colab": {
     "base_uri": "https://localhost:8080/",
     "height": 424
    },
    "id": "w-BeLvB7GDlB",
    "outputId": "561af2e1-3102-426a-c8c9-2e195f196c27"
   },
   "outputs": [
    {
     "data": {
      "text/html": [
       "<div>\n",
       "<style scoped>\n",
       "    .dataframe tbody tr th:only-of-type {\n",
       "        vertical-align: middle;\n",
       "    }\n",
       "\n",
       "    .dataframe tbody tr th {\n",
       "        vertical-align: top;\n",
       "    }\n",
       "\n",
       "    .dataframe thead th {\n",
       "        text-align: right;\n",
       "    }\n",
       "</style>\n",
       "<table border=\"1\" class=\"dataframe\">\n",
       "  <thead>\n",
       "    <tr style=\"text-align: right;\">\n",
       "      <th></th>\n",
       "      <th>Island</th>\n",
       "      <th>Culmen Length (mm)</th>\n",
       "      <th>Flipper Length (mm)</th>\n",
       "    </tr>\n",
       "  </thead>\n",
       "  <tbody>\n",
       "    <tr>\n",
       "      <th>7</th>\n",
       "      <td>2</td>\n",
       "      <td>39.2</td>\n",
       "      <td>195.0</td>\n",
       "    </tr>\n",
       "    <tr>\n",
       "      <th>264</th>\n",
       "      <td>0</td>\n",
       "      <td>50.5</td>\n",
       "      <td>222.0</td>\n",
       "    </tr>\n",
       "    <tr>\n",
       "      <th>138</th>\n",
       "      <td>1</td>\n",
       "      <td>37.0</td>\n",
       "      <td>185.0</td>\n",
       "    </tr>\n",
       "    <tr>\n",
       "      <th>28</th>\n",
       "      <td>0</td>\n",
       "      <td>37.9</td>\n",
       "      <td>172.0</td>\n",
       "    </tr>\n",
       "    <tr>\n",
       "      <th>152</th>\n",
       "      <td>1</td>\n",
       "      <td>46.5</td>\n",
       "      <td>192.0</td>\n",
       "    </tr>\n",
       "    <tr>\n",
       "      <th>...</th>\n",
       "      <td>...</td>\n",
       "      <td>...</td>\n",
       "      <td>...</td>\n",
       "    </tr>\n",
       "    <tr>\n",
       "      <th>210</th>\n",
       "      <td>1</td>\n",
       "      <td>50.2</td>\n",
       "      <td>202.0</td>\n",
       "    </tr>\n",
       "    <tr>\n",
       "      <th>59</th>\n",
       "      <td>0</td>\n",
       "      <td>37.6</td>\n",
       "      <td>194.0</td>\n",
       "    </tr>\n",
       "    <tr>\n",
       "      <th>302</th>\n",
       "      <td>0</td>\n",
       "      <td>47.4</td>\n",
       "      <td>212.0</td>\n",
       "    </tr>\n",
       "    <tr>\n",
       "      <th>217</th>\n",
       "      <td>1</td>\n",
       "      <td>49.6</td>\n",
       "      <td>193.0</td>\n",
       "    </tr>\n",
       "    <tr>\n",
       "      <th>311</th>\n",
       "      <td>0</td>\n",
       "      <td>52.2</td>\n",
       "      <td>228.0</td>\n",
       "    </tr>\n",
       "  </tbody>\n",
       "</table>\n",
       "<p>266 rows × 3 columns</p>\n",
       "</div>"
      ],
      "text/plain": [
       "     Island  Culmen Length (mm)  Flipper Length (mm)\n",
       "7         2                39.2                195.0\n",
       "264       0                50.5                222.0\n",
       "138       1                37.0                185.0\n",
       "28        0                37.9                172.0\n",
       "152       1                46.5                192.0\n",
       "..      ...                 ...                  ...\n",
       "210       1                50.2                202.0\n",
       "59        0                37.6                194.0\n",
       "302       0                47.4                212.0\n",
       "217       1                49.6                193.0\n",
       "311       0                52.2                228.0\n",
       "\n",
       "[266 rows x 3 columns]"
      ]
     },
     "execution_count": 31,
     "metadata": {},
     "output_type": "execute_result"
    }
   ],
   "source": [
    "X_train"
   ]
  },
  {
   "cell_type": "markdown",
   "metadata": {
    "id": "F2SzPgtSuYKU"
   },
   "source": [
    "As you can see above X_train only contains the predictor variables. Island 0 is Biscoe, 1 is Dream, and 2 is Torgersen."
   ]
  },
  {
   "cell_type": "code",
   "execution_count": 32,
   "metadata": {
    "colab": {
     "base_uri": "https://localhost:8080/"
    },
    "id": "Cq_FSGRbGfhg",
    "outputId": "7976ce1e-1c68-435a-a1c5-ff7ee181ad78"
   },
   "outputs": [
    {
     "data": {
      "text/plain": [
       "7      0\n",
       "264    2\n",
       "138    0\n",
       "28     0\n",
       "152    1\n",
       "      ..\n",
       "210    1\n",
       "59     0\n",
       "302    2\n",
       "217    1\n",
       "311    2\n",
       "Name: Species, Length: 266, dtype: int64"
      ]
     },
     "execution_count": 32,
     "metadata": {},
     "output_type": "execute_result"
    }
   ],
   "source": [
    "y_train"
   ]
  },
  {
   "cell_type": "markdown",
   "metadata": {
    "id": "2d1e2-IWuceU"
   },
   "source": [
    "And here you can see y_train only contains the Species represented by numbers. 0 represents Adelie, 1 represents Chinstrap, and 2 represents Gentoo."
   ]
  },
  {
   "cell_type": "markdown",
   "metadata": {
    "id": "J52Xlku53jMA"
   },
   "source": [
    "## Modeling"
   ]
  },
  {
   "cell_type": "markdown",
   "metadata": {
    "id": "HorTJ1H7NEih"
   },
   "source": [
    "## Decision Region Plot"
   ]
  },
  {
   "cell_type": "code",
   "execution_count": 33,
   "metadata": {
    "id": "DV1jRbQ4RZWB"
   },
   "outputs": [
    {
     "name": "stderr",
     "output_type": "stream",
     "text": [
      "/Users/linamolla/opt/anaconda3/lib/python3.8/site-packages/pandas/core/indexing.py:692: SettingWithCopyWarning: \n",
      "A value is trying to be set on a copy of a slice from a DataFrame\n",
      "\n",
      "See the caveats in the documentation: https://pandas.pydata.org/pandas-docs/stable/user_guide/indexing.html#returning-a-view-versus-a-copy\n",
      "  iloc._setitem_with_indexer(indexer, value, self.name)\n"
     ]
    }
   ],
   "source": [
    "# These are data used to plot dicision regions on different islands\n",
    "dream_penguins = test.loc[test[\"Island\"] == \"Dream\"]\n",
    "dream_X, dream_y = prep_penguins(dream_penguins)\n",
    "\n",
    "biscoe_penguins = test.loc[test[\"Island\"] == \"Biscoe\"]\n",
    "biscoe_X, biscoe_y = prep_penguins(biscoe_penguins)\n",
    "\n",
    "torgersen_penguins = test.loc[test[\"Island\"] == \"Torgersen\"]\n",
    "torgersen_penguins.reset_index(drop = True, inplace = True)\n",
    "torgersen_penguins.loc[len(torgersen_penguins.index)] = ['NULL', \n",
    "                                                         'Torgersen', \n",
    "                                                         39, 0, 191, 0, \n",
    "                                                         'FEMALE'] \n",
    "torgersen_X, torgersen_y = prep_penguins(torgersen_penguins)"
   ]
  },
  {
   "cell_type": "markdown",
   "metadata": {
    "id": "_S8mOviRNUj9"
   },
   "source": [
    "We did this to split up the plotting regions into three different islands. We split into the island Torgersen as well just as a formality but because Torgesen only had the Adelie Species in it we ran into a problem. The model did not like that there was only one unique class label for the y set which caused it not to execute. Thus, you will see one Decision Region Plot for each model with three species in it while the other two Islands had two species on the island, so the models were able to create the plots.\n",
    "\n",
    "In order to plot Torgersen, I added a NULL random data point to the torgersen_penguins data set that had only penguins on Torgersen on it. This data point is just like all of the other data points on Torgersen, meaning I made it randomly with similar values to those of the other penguins on Torgersen, but I gave it the species name NULL, so the plot would think there are two different species that it is classifying the points under and will create the decision regions accordingly."
   ]
  },
  {
   "cell_type": "markdown",
   "metadata": {
    "id": "gmjdEncQ6na9"
   },
   "source": [
    "We split the data up by Island and then used the same prep cleaning function on the 3 splits of the data corresponding to island. "
   ]
  },
  {
   "cell_type": "code",
   "execution_count": 34,
   "metadata": {
    "id": "ZzmhwLCNNECx"
   },
   "outputs": [],
   "source": [
    "def plot_decision_function(model, df, X, y):\n",
    "    '''\n",
    "    Params: \n",
    "      model: the model we are using\n",
    "      df: the data\n",
    "      X: the quantitative variables for the data\n",
    "      y: species\n",
    "    Returns:\n",
    "      decision regions plot\n",
    "    '''\n",
    "\n",
    "    quant = ['Culmen Length (mm)', 'Flipper Length (mm)']\n",
    "    # color = {'Adelie' : 'blue', 'Chinstrap' : 'green', 'Gentoo' : 'pink'}\n",
    "    model.fit(X[quant], y)\n",
    "    \n",
    "    range_items = {\n",
    "    feature_name: (X[feature_name].min() - 1, X[feature_name].max() + 1)\n",
    "    for feature_name in quant\n",
    "    }\n",
    "    feature_names = list(range_items.keys())\n",
    "\n",
    "    xx, yy = np.meshgrid(\n",
    "        np.arange(range_items[feature_names[0]][0], \n",
    "                  range_items[feature_names[0]][1], 0.02),\n",
    "        np.arange(range_items[feature_names[1]][0], \n",
    "                  range_items[feature_names[1]][1], 0.02)\n",
    "    )\n",
    "\n",
    "    Z = model.predict(np.c_[xx.ravel(), yy.ravel()])\n",
    "    Z = Z.reshape(xx.shape)\n",
    "\n",
    "    fig, ax = plt.subplots()\n",
    "    ax = sns.scatterplot(data=df, \n",
    "                         x=\"Culmen Length (mm)\", \n",
    "                         y= \"Flipper Length (mm)\", hue=\"Species\", )\n",
    "    ax.contourf(xx, yy, Z, alpha=0.4, cmap=\"YlGnBu\")\n",
    "\n",
    "    return ax"
   ]
  },
  {
   "cell_type": "markdown",
   "metadata": {
    "id": "qb9Rd8mu7Q5F"
   },
   "source": [
    "In this function we first had to fit the model based on the quantitative and the qualititave data. We combined both of the quantitative data from the variables into the variable quant, so it is easier to work with. After that we created a dictionary that contains the column names along with the miniumum and maximum values. Then we created the mesh grid and then computed the predictions. Afterwards, we plotted the data."
   ]
  },
  {
   "cell_type": "markdown",
   "metadata": {
    "id": "dvDbK_7X4Re3"
   },
   "source": [
    "## Model 1: Support Vector Machine"
   ]
  },
  {
   "cell_type": "markdown",
   "metadata": {
    "id": "OmOVzv9WxAix"
   },
   "source": [
    "We want to minimize overfitting which is why we want to determine the optimal complexity for the model. We wanted to find the best parameter for the C value which determines the margin of the hyperplane."
   ]
  },
  {
   "cell_type": "code",
   "execution_count": 35,
   "metadata": {
    "id": "f5uvV2oJBu__"
   },
   "outputs": [],
   "source": [
    "def best_Cparam(X, y):\n",
    "    '''\n",
    "    Params: \n",
    "      X: Island, Culmen Length (mm), Flipper Length (mm)\n",
    "      y: Species\n",
    "    Returns:\n",
    "      best_C: The best index of the best cross validation score\n",
    "      best_score: the best Cross Validation score\n",
    "    '''\n",
    "    fig, ax = plt.subplots(1)\n",
    "    best_score = 0\n",
    "\n",
    "    for d in range(1,15):\n",
    "        model = SVC(kernel = \"poly\", C = d)\n",
    "        cv_score = cross_val_score(model, X, y, cv=10).mean()\n",
    "        ax.scatter(d, cv_score, color = \"black\")\n",
    "        \n",
    "        if cv_score > best_score:\n",
    "            best_C = d\n",
    "            best_score = cv_score\n",
    "\n",
    "    ax.set(title = \"Best C : \" + str(best_C), \n",
    "           xlabel = \"C\", ylabel = \"CV Score\")\n",
    "    return best_C, best_score"
   ]
  },
  {
   "cell_type": "markdown",
   "metadata": {
    "id": "M3--pv7F90e3"
   },
   "source": [
    "This function attempts to find the best C parameter. It initializes the best score to 0. After that it loops through 14 times the cross validation score and then finds the mean and then plots it. In order to find the best CV score each time that we go through the loop we compare it to the current based CV score to determine which one is higher. In the end it returns the best C index and also the score associated with it. "
   ]
  },
  {
   "cell_type": "code",
   "execution_count": 36,
   "metadata": {
    "colab": {
     "base_uri": "https://localhost:8080/",
     "height": 312
    },
    "id": "jbz-UJT99oum",
    "outputId": "31d6fb15-a0d0-4b8e-9e00-165360c5586b"
   },
   "outputs": [
    {
     "data": {
      "text/plain": [
       "0.9472934472934472"
      ]
     },
     "execution_count": 36,
     "metadata": {},
     "output_type": "execute_result"
    },
    {
     "data": {
      "image/png": "[encoded data removed]",
      "text/plain": [
       "<Figure size 432x288 with 1 Axes>"
      ]
     },
     "metadata": {
      "needs_background": "light"
     },
     "output_type": "display_data"
    }
   ],
   "source": [
    "best_C, best_score = best_Cparam(X_train, y_train)\n",
    "best_score"
   ]
  },
  {
   "cell_type": "markdown",
   "metadata": {
    "id": "_RnqV9nrArVC"
   },
   "source": [
    "The best C value was determined to be 10, which is slightly large in terms of C values. This is somewhat surprising, but this is why we conducted cross validation to test a bunch of different values to determine which would be the most accurate, so this should not be a major worry for our model. Now that we have found the best C value, we will then train a model with this C value and then try to calculate the difference in scores between the training and the test data sets."
   ]
  },
  {
   "cell_type": "code",
   "execution_count": 37,
   "metadata": {
    "colab": {
     "base_uri": "https://localhost:8080/"
    },
    "id": "M3vqNWRd9s6z",
    "outputId": "e839433a-3630-4fb6-8477-d93c277437fa"
   },
   "outputs": [
    {
     "data": {
      "text/plain": [
       "(0.9511278195488722, 0.9552238805970149)"
      ]
     },
     "execution_count": 37,
     "metadata": {},
     "output_type": "execute_result"
    }
   ],
   "source": [
    "SVM = SVC(kernel='poly', C=best_C)\n",
    "SVM.fit(X_train, y_train)\n",
    "SVM.score(X_train, y_train), SVM.score(X_test, y_test)"
   ]
  },
  {
   "cell_type": "markdown",
   "metadata": {
    "id": "pAz24TQdy7RG"
   },
   "source": [
    "As we can see there is a very small difference in score between the Test and the Training set. This means that there is liekly very little over or underfitting as observed. However, we also want to look at the unseen data with a confusion matrix. "
   ]
  },
  {
   "cell_type": "code",
   "execution_count": 38,
   "metadata": {
    "colab": {
     "base_uri": "https://localhost:8080/"
    },
    "id": "QTrOrLMVf5LG",
    "outputId": "58cc52f4-67ca-4c90-a397-2436e745d75a"
   },
   "outputs": [
    {
     "data": {
      "text/plain": [
       "array([[33,  1,  0],\n",
       "       [ 1, 12,  1],\n",
       "       [ 0,  0, 19]])"
      ]
     },
     "execution_count": 38,
     "metadata": {},
     "output_type": "execute_result"
    }
   ],
   "source": [
    "y_test_pred = SVM.predict(X_test)\n",
    "c = confusion_matrix(y_test, y_test_pred)\n",
    "c"
   ]
  },
  {
   "cell_type": "code",
   "execution_count": 39,
   "metadata": {
    "colab": {
     "base_uri": "https://localhost:8080/",
     "height": 334
    },
    "id": "7xqY1xWl9u9D",
    "outputId": "bac9c978-bc69-4e6b-c5f3-841df4602318"
   },
   "outputs": [
    {
     "name": "stderr",
     "output_type": "stream",
     "text": [
      "/Users/linamolla/opt/anaconda3/lib/python3.8/site-packages/sklearn/utils/deprecation.py:87: FutureWarning: Function plot_confusion_matrix is deprecated; Function `plot_confusion_matrix` is deprecated in 1.0 and will be removed in 1.2. Use one of the class methods: ConfusionMatrixDisplay.from_predictions or ConfusionMatrixDisplay.from_estimator.\n",
      "  warnings.warn(msg, category=FutureWarning)\n"
     ]
    },
    {
     "data": {
      "image/png": "[encoded data removed]",
      "text/plain": [
       "<Figure size 432x288 with 2 Axes>"
      ]
     },
     "metadata": {
      "needs_background": "light"
     },
     "output_type": "display_data"
    }
   ],
   "source": [
    "plot_confusion_matrix(SVM, X_test, y_test, \n",
    "                      display_labels= ['Adelie','Chinstrap','Gentoo'], \n",
    "                      cmap = plt.cm.Purples);"
   ]
  },
  {
   "cell_type": "markdown",
   "metadata": {
    "id": "BSQ0P8KczKHn"
   },
   "source": [
    "The two matrices plotted here are the same, just using different methods. Examining either one, the matrix furthers what we saw in the model. Our model is fairly accurate with only 1 of each species being displaced. By using this to validate the performance of the model, we see that it performed very well.\n",
    "\n",
    "The visualization shows how accurate the model was, showing how often our predicted label matched the true label for the penguin species. For the Gentoo 19 of the 19 were corretly labeled by the model. For the Chinstrap 12 of the 14 labeled were correctly labeled and 33 of 34 of the Adelie species were labeled correctly. This means that of the 67 possible, 64 were labeled their true species. The model was a little over 95% accurate in predicting the species of penguin."
   ]
  },
  {
   "cell_type": "code",
   "execution_count": 40,
   "metadata": {
    "colab": {
     "base_uri": "https://localhost:8080/",
     "height": 924
    },
    "id": "g_CurKqW9w0x",
    "outputId": "2f375660-100b-42de-db2f-5503e57d13be"
   },
   "outputs": [
    {
     "name": "stderr",
     "output_type": "stream",
     "text": [
      "/Users/linamolla/opt/anaconda3/lib/python3.8/site-packages/sklearn/base.py:450: UserWarning: X does not have valid feature names, but SVC was fitted with feature names\n",
      "  warnings.warn(\n",
      "/Users/linamolla/opt/anaconda3/lib/python3.8/site-packages/sklearn/base.py:450: UserWarning: X does not have valid feature names, but SVC was fitted with feature names\n",
      "  warnings.warn(\n",
      "/Users/linamolla/opt/anaconda3/lib/python3.8/site-packages/sklearn/base.py:450: UserWarning: X does not have valid feature names, but SVC was fitted with feature names\n",
      "  warnings.warn(\n",
      "/Users/linamolla/opt/anaconda3/lib/python3.8/site-packages/sklearn/base.py:450: UserWarning: X does not have valid feature names, but SVC was fitted with feature names\n",
      "  warnings.warn(\n"
     ]
    },
    {
     "data": {
      "text/plain": [
       "<AxesSubplot:xlabel='Culmen Length (mm)', ylabel='Flipper Length (mm)'>"
      ]
     },
     "execution_count": 40,
     "metadata": {},
     "output_type": "execute_result"
    },
    {
     "data": {
      "image/png": "[encoded data removed]",
      "text/plain": [
       "<Figure size 432x288 with 1 Axes>"
      ]
     },
     "metadata": {
      "needs_background": "light"
     },
     "output_type": "display_data"
    },
    {
     "data": {
      "image/png": "[encoded data removed]",
      "text/plain": [
       "<Figure size 432x288 with 1 Axes>"
      ]
     },
     "metadata": {
      "needs_background": "light"
     },
     "output_type": "display_data"
    },
    {
     "data": {
      "image/png": "[encoded data removed]",
      "text/plain": [
       "<Figure size 432x288 with 1 Axes>"
      ]
     },
     "metadata": {
      "needs_background": "light"
     },
     "output_type": "display_data"
    },
    {
     "data": {
      "image/png": "[encoded data removed]",
      "text/plain": [
       "<Figure size 432x288 with 1 Axes>"
      ]
     },
     "metadata": {
      "needs_background": "light"
     },
     "output_type": "display_data"
    }
   ],
   "source": [
    "plot_decision_function(SVM, test, X_train, y_train)\n",
    "plot_decision_function(SVM, dream_penguins, dream_X, dream_y)\n",
    "plot_decision_function(SVM, biscoe_penguins, biscoe_X, biscoe_y)\n",
    "plot_decision_function(SVM, torgersen_penguins, torgersen_X, torgersen_y)"
   ]
  },
  {
   "cell_type": "markdown",
   "metadata": {
    "id": "gt6uVrIEN_xp"
   },
   "source": [
    "Through these decision region graphs we can clearly see that only certain species are on certain islands. For example, Adelie and Chinstrap are the only two species in Dream. Gentoo and Adelie are the only two species on Biscoe. That being said, the species seem to have fallen in the correct regions with only one visible wrong classification in the Second plot further proving the accuracy of our model. We also decided to plot the the whole test set because there was an error with the fact that we did not have mutliple unique species when looking at the Torgesen island because only Adelie is on Torgeson which is why we tried to show the split based off of the test set instead for our third plot. There was no decision to be made when we are running our model on a subset of the data set where only one species is possible, so our DRP function did not want to plot it.\n",
    "\n",
    "Looking at the island Torgersen, knowing there were only Adelie penguins, the model was able to predict the species correctly for all penguins on that island which is why we chose the predictive variable Island in the first place. It truly narrows down the species right away based on this data set.\n",
    "\n",
    "If our results on the training and test sets had not both been as substantially accurate as they were, then we might have wanted to worry about potentially underfitting a little more. The lines are somewhat straight and not super curvy at all for the decision region borders. This is probably because of the specific test set we are working on which allowed these straighter lines to still be better border line quantitative value predictors of species despite not being as smooth and potentially curvy. So, the model may not be underfitting that much, but the lines are somewhat straight, so there is potential that our model is underfitting. Once again, this would only be more of an issue if our test and training sets hadn't both gotten good accuracy scores. "
   ]
  },
  {
   "cell_type": "markdown",
   "metadata": {
    "id": "paFKXdHE4V7c"
   },
   "source": [
    "## Model 2: Logistic Regression"
   ]
  },
  {
   "cell_type": "markdown",
   "metadata": {
    "id": "4BfKZP4SZxis"
   },
   "source": [
    "In order to avoid overfitting and to create the best model, we will use cross validation to determine the value of C for our Logistic Regression Model."
   ]
  },
  {
   "cell_type": "code",
   "execution_count": 41,
   "metadata": {
    "id": "gPvuc2gyfPr4"
   },
   "outputs": [],
   "source": [
    "def best_LRCparam(X, y):\n",
    "    '''\n",
    "    Params: \n",
    "      X: Island, Culmen Length (mm), Flipper Length (mm)\n",
    "      y: Species\n",
    "    Returns:\n",
    "      best_C: The best index of the best cross validation score\n",
    "      best_score: the best Cross Validation score\n",
    "    '''\n",
    "    fig, ax = plt.subplots(1)\n",
    "    best_score = 0\n",
    "\n",
    "    for d in range(1, 15):\n",
    "        model = LogisticRegression(max_iter = 40000, C = d)\n",
    "        cv_score = cross_val_score(model, X, y, cv=10).mean()\n",
    "        ax.scatter(d, cv_score, color = \"black\")\n",
    "        \n",
    "        if cv_score > best_score:\n",
    "            best_C = d\n",
    "            best_score = cv_score\n",
    "\n",
    "    ax.set(title = \"Best C: \" + str(best_C), xlabel = \"C\", ylabel = \"CV Score\")\n",
    "    return best_C, best_score"
   ]
  },
  {
   "cell_type": "code",
   "execution_count": 42,
   "metadata": {
    "colab": {
     "base_uri": "https://localhost:8080/",
     "height": 312
    },
    "id": "MB-4MjLBgyCd",
    "outputId": "6e20b82d-5600-4e42-ada8-f5cdb066612f"
   },
   "outputs": [
    {
     "data": {
      "text/plain": [
       "0.9663817663817664"
      ]
     },
     "execution_count": 42,
     "metadata": {},
     "output_type": "execute_result"
    },
    {
     "data": {
      "image/png": "[encoded data removed]",
      "text/plain": [
       "<Figure size 432x288 with 1 Axes>"
      ]
     },
     "metadata": {
      "needs_background": "light"
     },
     "output_type": "display_data"
    }
   ],
   "source": [
    "best_C, best_score = best_LRCparam(X_train, y_train)\n",
    "best_score"
   ]
  },
  {
   "cell_type": "markdown",
   "metadata": {
    "id": "7V46oB82aH5n"
   },
   "source": [
    "In orer to not receive errors, we had to increase iterations to 40000 to find the best cross validation score in determining the C hyperparameter for the model. After using cross validation, we found that the best value for C is 1 with a score of 96.6%. This means our model generalizes to the whole of the data set fairly well with good accuracy. "
   ]
  },
  {
   "cell_type": "code",
   "execution_count": 43,
   "metadata": {
    "colab": {
     "base_uri": "https://localhost:8080/"
    },
    "id": "IFkmakEJhaIV",
    "outputId": "8e7df907-2264-4408-fd0c-227567ffe2ca"
   },
   "outputs": [
    {
     "data": {
      "text/plain": [
       "(0.9661654135338346, 0.9701492537313433)"
      ]
     },
     "execution_count": 43,
     "metadata": {},
     "output_type": "execute_result"
    }
   ],
   "source": [
    "LR = LogisticRegression(C = best_C, max_iter = 40000)\n",
    "LR.fit(X_train, y_train)\n",
    "LR.score(X_train, y_train), LR.score(X_test, y_test)"
   ]
  },
  {
   "cell_type": "markdown",
   "metadata": {
    "id": "RztKlK290kUP"
   },
   "source": [
    "Comparing the train and test scores side by side, we see that there is a very small difference between the scores which is essential to not over or underfit the data. Our model is doing well with him scores of around 97% on the test and training sets."
   ]
  },
  {
   "cell_type": "code",
   "execution_count": 44,
   "metadata": {
    "colab": {
     "base_uri": "https://localhost:8080/"
    },
    "id": "kERZFHeTiWeb",
    "outputId": "afbc8f69-e9b7-478e-e934-1a04b19e5ab4"
   },
   "outputs": [
    {
     "data": {
      "text/plain": [
       "array([[33,  1,  0],\n",
       "       [ 1, 13,  0],\n",
       "       [ 0,  0, 19]])"
      ]
     },
     "execution_count": 44,
     "metadata": {},
     "output_type": "execute_result"
    }
   ],
   "source": [
    "y_test_pred = LR.predict(X_test)\n",
    "c = confusion_matrix(y_test, y_test_pred)\n",
    "c"
   ]
  },
  {
   "cell_type": "markdown",
   "metadata": {
    "id": "r5xbC9ue011k"
   },
   "source": [
    "Again, we plotted the confusion matrix in order to observe data that is hidden. Here we see that only 1 or less of each species was misplaced meaning our model predicted the test set very accurately."
   ]
  },
  {
   "cell_type": "code",
   "execution_count": 45,
   "metadata": {
    "colab": {
     "base_uri": "https://localhost:8080/",
     "height": 351
    },
    "id": "63eoPZX-ilNS",
    "outputId": "5b04d05e-a6b7-474c-dd5d-d860824032d0"
   },
   "outputs": [
    {
     "name": "stderr",
     "output_type": "stream",
     "text": [
      "/Users/linamolla/opt/anaconda3/lib/python3.8/site-packages/sklearn/utils/deprecation.py:87: FutureWarning: Function plot_confusion_matrix is deprecated; Function `plot_confusion_matrix` is deprecated in 1.0 and will be removed in 1.2. Use one of the class methods: ConfusionMatrixDisplay.from_predictions or ConfusionMatrixDisplay.from_estimator.\n",
      "  warnings.warn(msg, category=FutureWarning)\n"
     ]
    },
    {
     "data": {
      "text/plain": [
       "<sklearn.metrics._plot.confusion_matrix.ConfusionMatrixDisplay at 0x7fcfcee6b940>"
      ]
     },
     "execution_count": 45,
     "metadata": {},
     "output_type": "execute_result"
    },
    {
     "data": {
      "image/png": "[encoded data removed]",
      "text/plain": [
       "<Figure size 432x288 with 2 Axes>"
      ]
     },
     "metadata": {
      "needs_background": "light"
     },
     "output_type": "display_data"
    }
   ],
   "source": [
    "plot_confusion_matrix(LR, X_test, y_test, \n",
    "                      display_labels= ['Adelie','Chinstrap','Gentoo'], \n",
    "                      cmap = plt.cm.Purples)"
   ]
  },
  {
   "cell_type": "markdown",
   "metadata": {
    "id": "QTbCv7fTbhjb"
   },
   "source": [
    "The matrix displays how well the model predicted penguin species compared to the true species label. For the Gentoo, 19 of the 19 were labeled correctly with no errors. For the Chinstrap, 13 of the 14 were labeled accurately with one being labeled incorrectly. As for the Adelie, 33 of the 34 were correctly labeled and one was mislabeled. Overall 65 of the 67 predictions were correct, an accuracy of about 97% indicating that this model was fairly accurate. Compared to the SVM model, it is a slight bit more accurate in predicting the species, but both models both did very well. "
   ]
  },
  {
   "cell_type": "code",
   "execution_count": 46,
   "metadata": {
    "colab": {
     "base_uri": "https://localhost:8080/",
     "height": 944
    },
    "id": "MrKx1LayVM1z",
    "outputId": "8e4b73e3-b686-400d-c480-7444296648c8"
   },
   "outputs": [
    {
     "name": "stderr",
     "output_type": "stream",
     "text": [
      "/Users/linamolla/opt/anaconda3/lib/python3.8/site-packages/sklearn/base.py:450: UserWarning: X does not have valid feature names, but LogisticRegression was fitted with feature names\n",
      "  warnings.warn(\n",
      "/Users/linamolla/opt/anaconda3/lib/python3.8/site-packages/sklearn/base.py:450: UserWarning: X does not have valid feature names, but LogisticRegression was fitted with feature names\n",
      "  warnings.warn(\n",
      "/Users/linamolla/opt/anaconda3/lib/python3.8/site-packages/sklearn/base.py:450: UserWarning: X does not have valid feature names, but LogisticRegression was fitted with feature names\n",
      "  warnings.warn(\n",
      "/Users/linamolla/opt/anaconda3/lib/python3.8/site-packages/sklearn/base.py:450: UserWarning: X does not have valid feature names, but LogisticRegression was fitted with feature names\n",
      "  warnings.warn(\n"
     ]
    },
    {
     "data": {
      "text/plain": [
       "<AxesSubplot:xlabel='Culmen Length (mm)', ylabel='Flipper Length (mm)'>"
      ]
     },
     "execution_count": 46,
     "metadata": {},
     "output_type": "execute_result"
    },
    {
     "data": {
      "image/png": "[encoded data removed]",
      "text/plain": [
       "<Figure size 432x288 with 1 Axes>"
      ]
     },
     "metadata": {
      "needs_background": "light"
     },
     "output_type": "display_data"
    },
    {
     "data": {
      "image/png": "[encoded data removed]",
      "text/plain": [
       "<Figure size 432x288 with 1 Axes>"
      ]
     },
     "metadata": {
      "needs_background": "light"
     },
     "output_type": "display_data"
    },
    {
     "data": {
      "image/png": "[encoded data removed]",
      "text/plain": [
       "<Figure size 432x288 with 1 Axes>"
      ]
     },
     "metadata": {
      "needs_background": "light"
     },
     "output_type": "display_data"
    },
    {
     "data": {
      "image/png": "[encoded data removed]",
      "text/plain": [
       "<Figure size 432x288 with 1 Axes>"
      ]
     },
     "metadata": {
      "needs_background": "light"
     },
     "output_type": "display_data"
    }
   ],
   "source": [
    "plot_decision_function(LR, test, X_test, y_test)\n",
    "plot_decision_function(LR, dream_penguins, dream_X, dream_y)\n",
    "plot_decision_function(LR, biscoe_penguins, biscoe_X, biscoe_y)\n",
    "plot_decision_function(LR, torgersen_penguins, torgersen_X, torgersen_y)"
   ]
  },
  {
   "cell_type": "markdown",
   "metadata": {
    "id": "Ad-s1gqD1G-K"
   },
   "source": [
    "These decision regions closely model the same as the decision regions for the SVM model with those misclassified being just on the decision region border lines of the plots for this Logistic Regression model. So far, both models are good for predicting the target variable species. \n",
    "\n",
    "Just as described in about the Decision Region Plots of the SVM model, the lines do appear to be quite straight and less curvy or precise to some extent. We will not worry about this too much since it is such a small data set, but in some cases, these straight lines may mean the model is not as representative and did not account for much variance, so that would mean the model shows some signs of underfitting."
   ]
  },
  {
   "cell_type": "markdown",
   "metadata": {
    "id": "BhIOicGf4alA"
   },
   "source": [
    "## Model 3: Near Neighbor Classifers"
   ]
  },
  {
   "cell_type": "code",
   "execution_count": 47,
   "metadata": {
    "id": "-InBKM0Z3mb7"
   },
   "outputs": [],
   "source": [
    "def best_Depthparam(X, y):\n",
    "    '''\n",
    "    Params: \n",
    "      X: Island, Culmen Length (mm), Flipper Length (mm)\n",
    "      y: Species\n",
    "    Returns:\n",
    "      best_depth: The best index of the best depth score\n",
    "      best_score: the best Cross Validation score\n",
    "    '''\n",
    "    fig, ax = plt.subplots(1)\n",
    "    best_score = 0\n",
    "\n",
    "    for d in range(1,30):\n",
    "        model = KNeighborsClassifier(n_neighbors = d)\n",
    "        cv_score = cross_val_score(model, X, y, cv=10).mean()\n",
    "        ax.scatter(d, cv_score, color = \"black\")\n",
    "        \n",
    "        if cv_score > best_score:\n",
    "            best_depth = d\n",
    "            best_score = cv_score\n",
    "\n",
    "    ax.set(title = \"Best Depth : \" + str(best_depth), \n",
    "           xlabel = \"Depth\", ylabel = \"CV Score\")\n",
    "    return best_depth, best_score"
   ]
  },
  {
   "cell_type": "markdown",
   "metadata": {
    "id": "RI61rGzWduoH"
   },
   "source": [
    "For the Near Neighbors Classifer, we used cross validation to determine the best depth hyperparameter to use for our model. We used a cross validation value of 10, determined the mean score of each test, and then plotted and compared the different depth values to determine the best value for our model."
   ]
  },
  {
   "cell_type": "code",
   "execution_count": 48,
   "metadata": {
    "colab": {
     "base_uri": "https://localhost:8080/",
     "height": 312
    },
    "id": "u991SIh5XLj5",
    "outputId": "3385468e-5acd-430b-a8d8-550aeafdf856"
   },
   "outputs": [
    {
     "data": {
      "text/plain": [
       "0.9621082621082622"
      ]
     },
     "execution_count": 48,
     "metadata": {},
     "output_type": "execute_result"
    },
    {
     "data": {
      "image/png": "[encoded data removed]",
      "text/plain": [
       "<Figure size 432x288 with 1 Axes>"
      ]
     },
     "metadata": {
      "needs_background": "light"
     },
     "output_type": "display_data"
    }
   ],
   "source": [
    "best_depth, best_score = best_Depthparam(X_train, y_train)\n",
    "best_score"
   ]
  },
  {
   "cell_type": "markdown",
   "metadata": {
    "id": "c1ughSjF2A5x"
   },
   "source": [
    "As we can see in this plot, the best Depth is 3. However, in this plot the CV scores seem to vary more. Let's look at the test and the training set to see how this chosen best depth executed."
   ]
  },
  {
   "cell_type": "code",
   "execution_count": 49,
   "metadata": {
    "colab": {
     "base_uri": "https://localhost:8080/"
    },
    "id": "PpVubsqNUvmJ",
    "outputId": "f77b6d9d-f2b8-4027-8b61-5bc6fb357345"
   },
   "outputs": [
    {
     "data": {
      "text/plain": [
       "(0.9699248120300752, 0.9552238805970149)"
      ]
     },
     "execution_count": 49,
     "metadata": {},
     "output_type": "execute_result"
    }
   ],
   "source": [
    "KNC = KNeighborsClassifier(n_neighbors = best_depth)\n",
    "KNC.fit(X_train, y_train)\n",
    "KNC.score(X_train, y_train), KNC.score(X_test, y_test)"
   ]
  },
  {
   "cell_type": "markdown",
   "metadata": {
    "id": "kbQ5HH06gQs_"
   },
   "source": [
    "The train and test scores are fairly close to one another once again but not as close as the two previous models. The two previous models had scores within one percent of one another, even lower than that. While this model has scores that are still extremely close, they are slightly less close than the other models with the train score being almost 97% and the test score being about 95.5%. The numbers are still close to one another so we do not believe overfitting is an issue."
   ]
  },
  {
   "cell_type": "code",
   "execution_count": 50,
   "metadata": {
    "colab": {
     "base_uri": "https://localhost:8080/"
    },
    "id": "gFknSEujU05N",
    "outputId": "db525735-9e6a-43ad-ad28-512ecb3dc370"
   },
   "outputs": [
    {
     "data": {
      "text/plain": [
       "array([[33,  1,  0],\n",
       "       [ 1, 12,  1],\n",
       "       [ 0,  0, 19]])"
      ]
     },
     "execution_count": 50,
     "metadata": {},
     "output_type": "execute_result"
    }
   ],
   "source": [
    "y_test_pred = KNC.predict(X_test)\n",
    "c = confusion_matrix(y_test, y_test_pred)\n",
    "c"
   ]
  },
  {
   "cell_type": "code",
   "execution_count": 51,
   "metadata": {
    "colab": {
     "base_uri": "https://localhost:8080/",
     "height": 334
    },
    "id": "XGReq8pRU2ir",
    "outputId": "47d7caab-1673-4e68-e69b-f4fa90d4a827"
   },
   "outputs": [
    {
     "name": "stderr",
     "output_type": "stream",
     "text": [
      "/Users/linamolla/opt/anaconda3/lib/python3.8/site-packages/sklearn/utils/deprecation.py:87: FutureWarning: Function plot_confusion_matrix is deprecated; Function `plot_confusion_matrix` is deprecated in 1.0 and will be removed in 1.2. Use one of the class methods: ConfusionMatrixDisplay.from_predictions or ConfusionMatrixDisplay.from_estimator.\n",
      "  warnings.warn(msg, category=FutureWarning)\n"
     ]
    },
    {
     "data": {
      "image/png": "[encoded data removed]",
      "text/plain": [
       "<Figure size 432x288 with 2 Axes>"
      ]
     },
     "metadata": {
      "needs_background": "light"
     },
     "output_type": "display_data"
    }
   ],
   "source": [
    "plot_confusion_matrix(KNC, X_test, y_test, \n",
    "                      display_labels= ['Adelie','Chinstrap','Gentoo'], \n",
    "                      cmap = plt.cm.Purples);"
   ]
  },
  {
   "cell_type": "markdown",
   "metadata": {
    "id": "Lq34nOSqhGs3"
   },
   "source": [
    "Examining the confusion matrix, this model, like the other two, correctly predicted all 19 species of Gentoo with no mistakes. For Chinstrap it correctly labeled 12 of the 14, and for Adelie it correctly labeled 33 of the 34. This is nearly identical to the SVM model which had the same level of accuracy, predicting 64 of the 67 true labels correctly and missing on 3 of them. Overall the model is pretty accurate, but the logistic regression model was slightly more accurate than both the other two models. "
   ]
  },
  {
   "cell_type": "code",
   "execution_count": 52,
   "metadata": {
    "colab": {
     "base_uri": "https://localhost:8080/",
     "height": 944
    },
    "id": "yHLnVawGU461",
    "outputId": "b16ee8ad-d26d-4381-f735-967043cb59a8"
   },
   "outputs": [
    {
     "name": "stderr",
     "output_type": "stream",
     "text": [
      "/Users/linamolla/opt/anaconda3/lib/python3.8/site-packages/sklearn/base.py:450: UserWarning: X does not have valid feature names, but KNeighborsClassifier was fitted with feature names\n",
      "  warnings.warn(\n",
      "/Users/linamolla/opt/anaconda3/lib/python3.8/site-packages/sklearn/base.py:450: UserWarning: X does not have valid feature names, but KNeighborsClassifier was fitted with feature names\n",
      "  warnings.warn(\n",
      "/Users/linamolla/opt/anaconda3/lib/python3.8/site-packages/sklearn/base.py:450: UserWarning: X does not have valid feature names, but KNeighborsClassifier was fitted with feature names\n",
      "  warnings.warn(\n",
      "/Users/linamolla/opt/anaconda3/lib/python3.8/site-packages/sklearn/base.py:450: UserWarning: X does not have valid feature names, but KNeighborsClassifier was fitted with feature names\n",
      "  warnings.warn(\n"
     ]
    },
    {
     "data": {
      "text/plain": [
       "<AxesSubplot:xlabel='Culmen Length (mm)', ylabel='Flipper Length (mm)'>"
      ]
     },
     "execution_count": 52,
     "metadata": {},
     "output_type": "execute_result"
    },
    {
     "data": {
      "image/png": "[encoded data removed]",
      "text/plain": [
       "<Figure size 432x288 with 1 Axes>"
      ]
     },
     "metadata": {
      "needs_background": "light"
     },
     "output_type": "display_data"
    },
    {
     "data": {
      "image/png": "[encoded data removed]",
      "text/plain": [
       "<Figure size 432x288 with 1 Axes>"
      ]
     },
     "metadata": {
      "needs_background": "light"
     },
     "output_type": "display_data"
    },
    {
     "data": {
      "image/png": "[encoded data removed]",
      "text/plain": [
       "<Figure size 432x288 with 1 Axes>"
      ]
     },
     "metadata": {
      "needs_background": "light"
     },
     "output_type": "display_data"
    },
    {
     "data": {
      "image/png": "[encoded data removed]",
      "text/plain": [
       "<Figure size 432x288 with 1 Axes>"
      ]
     },
     "metadata": {
      "needs_background": "light"
     },
     "output_type": "display_data"
    }
   ],
   "source": [
    "plot_decision_function(KNC, test, X_test, y_test)\n",
    "plot_decision_function(KNC, dream_penguins, dream_X, dream_y)\n",
    "plot_decision_function(KNC, biscoe_penguins, biscoe_X, biscoe_y)\n",
    "plot_decision_function(KNC, torgersen_penguins, torgersen_X, torgersen_y)"
   ]
  },
  {
   "cell_type": "markdown",
   "metadata": {
    "id": "rFbWGGba28m1"
   },
   "source": [
    "As we can see in these decision region plots, it is a lot more jagged than the last two models. However, very few were misplaced once again, so we believe that after these three models, the variables that we chose were indeed great predictors of species. Because the lines are so jagged and specific, this may be a sign of overfitting, so we should be careful when examining this model. We could test it on more unseen data in order to get a better idea of it's accuracy. Because we are working on such a small data set, we do not have to worry about this too much, but the model may have been fit too perfectly about the training set meaning depending on the unseen data, the model may not be as accurate at predicting the species. Once again, it is not insanely jagged, so there may not be that much overfitting if any, so we do not have to worry about this too much in our situation."
   ]
  },
  {
   "cell_type": "markdown",
   "metadata": {
    "id": "Q3PVDcKnVSUi"
   },
   "source": [
    "# Discussion"
   ]
  },
  {
   "cell_type": "markdown",
   "metadata": {
    "id": "1_krw7pwh22g"
   },
   "source": [
    "  We recommend choosing **Island, Flipper Length,** and **Culmen Length** as predictor variables of penguin species as we believe that this yields the highest accuracy.\n",
    "  \n",
    "  The models themselves were, for the most part, greatly accurate in identifying the species of penguin. The Logistic Regression model was the most accurate as it only misidentified 2 of the species out of a total of 67. The SVM and Near Neighbor Classifiers models were also very accurate only misidentifying 1 less penguin than the Logistic Regression Model. All models weres able to correctly identify all of the Gentoo species based on the variables we chose. The Logistic Regression model was close to identifying all of the Chinstrap species but misidentified 1, whereas the other two models misidenitified 2 in this species. All of the models performed the same when identifying the Adelie species, identifying 33 out of 34. There seems to be no problem at all distinguishing the Gentoo based on the variables we chose, but there are some mistakes, albeit very few, when identifying the Chinstrap and Adelie species. This appears to be where the models fall short slightly. While they are all very accurate, this is an area where improvement could be made. Looking at these individual cases would give us a better understanding of where the models failed and made these incorrect identifications.\n",
    "  \n",
    "  When looking at one of the Chinstrap data points that was incorrectly labeled as Adelie, it is an outlier from the rest of the data points. The penguin's Culmen Length is slightly under 41 mm while the rest have an average Culmen Length of about 47.5 mm. This specific penguin had a culmen much shorter than the typical Chinstrap. This shows how outliers can affect the set when you are working on a test set of smaller size such as ours, but in our situation, there were not that many outliers and it did not affect our prediciton models that much. \n",
    "\n",
    "Training with more data points may have helped us avoid overfitting. The data set is relatively small compared to the true population of penguins. The most important part is to mitigate as much bias as possible when collecting the data. Since this is such a small data set, it would likely fail in the real world especially with the numerous species of penguins that exist if we were to add more species and islands. We must keep this in mind when determining how accurate our models truly are instead of simply basing our model's accuracy off of the extremely high scores received on both the training and test sets. Thus, while they may have high accuracy scores, in actuality, our models were not trained on enough data in order to truly be effective at predicting the true species of penguins in the real population.\n"
   ]
  },
  {
   "cell_type": "code",
   "execution_count": null,
   "metadata": {
    "id": "2pTh9ruM8yTd"
   },
   "outputs": [],
   "source": []
  }
 ],
 "metadata": {
  "colab": {
   "collapsed_sections": [
    "J52Xlku53jMA"
   ],
   "provenance": []
  },
  "kernelspec": {
   "display_name": "Python 3",
   "language": "python",
   "name": "python3"
  },
  "language_info": {
   "codemirror_mode": {
    "name": "ipython",
    "version": 3
   },
   "file_extension": ".py",
   "mimetype": "text/x-python",
   "name": "python",
   "nbconvert_exporter": "python",
   "pygments_lexer": "ipython3",
   "version": "3.8.8"
  }
 },
 "nbformat": 4,
 "nbformat_minor": 1
}
